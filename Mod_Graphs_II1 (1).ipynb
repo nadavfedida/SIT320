{
  "cells": [
    {
      "cell_type": "markdown",
      "id": "imposed-playlist",
      "metadata": {
        "id": "imposed-playlist"
      },
      "source": [
        "# Lab 3b: Graphs II"
      ]
    },
    {
      "cell_type": "markdown",
      "id": "d97cce87",
      "metadata": {
        "id": "d97cce87"
      },
      "source": [
        "Lab associated with Module 3b: Graphs II"
      ]
    },
    {
      "cell_type": "markdown",
      "id": "5c7f2e9d",
      "metadata": {
        "id": "5c7f2e9d"
      },
      "source": [
        "***"
      ]
    },
    {
      "cell_type": "code",
      "execution_count": 431,
      "id": "5b495ad0",
      "metadata": {
        "colab": {
          "base_uri": "https://localhost:8080/",
          "height": 17
        },
        "id": "5b495ad0",
        "outputId": "964c0ba2-0beb-4758-a714-5a5b8491f1ab"
      },
      "outputs": [
        {
          "name": "stderr",
          "output_type": "stream",
          "text": [
            "/var/folders/l_/4l5pw8hd2zz02y6ftrp56xd40000gn/T/ipykernel_42267/1945220536.py:2: DeprecationWarning: Importing display from IPython.core.display is deprecated since IPython 7.14, please import from IPython display\n",
            "  from IPython.core.display import display, HTML\n"
          ]
        },
        {
          "data": {
            "text/html": [
              "<style>.container { width:95% !important; }</style>"
            ],
            "text/plain": [
              "<IPython.core.display.HTML object>"
            ]
          },
          "metadata": {},
          "output_type": "display_data"
        }
      ],
      "source": [
        "# The following lines are used to increase the width of cells to utilize more space on the screen \n",
        "from IPython.core.display import display, HTML\n",
        "display(HTML(\"<style>.container { width:95% !important; }</style>\"))"
      ]
    },
    {
      "cell_type": "markdown",
      "id": "3a2b855c",
      "metadata": {
        "id": "3a2b855c"
      },
      "source": [
        "***"
      ]
    },
    {
      "cell_type": "markdown",
      "id": "9d0921a0",
      "metadata": {
        "id": "9d0921a0"
      },
      "source": [
        "### Section 0: Imports"
      ]
    },
    {
      "cell_type": "code",
      "execution_count": 432,
      "id": "477622d5",
      "metadata": {
        "id": "477622d5"
      },
      "outputs": [],
      "source": [
        "import numpy as np"
      ]
    },
    {
      "cell_type": "code",
      "execution_count": 433,
      "id": "50fb5ed5",
      "metadata": {
        "id": "50fb5ed5"
      },
      "outputs": [],
      "source": [
        "import math\n",
        "import sys\n",
        "from numpy import empty"
      ]
    },
    {
      "cell_type": "code",
      "execution_count": 434,
      "id": "965de108",
      "metadata": {
        "colab": {
          "base_uri": "https://localhost:8080/"
        },
        "id": "965de108",
        "outputId": "bde6bc06-86a9-4a5d-c31d-208afe13d99e"
      },
      "outputs": [],
      "source": [
        "from IPython.display import Image\n",
        "# from graphviz import Digraph\n"
      ]
    },
    {
      "cell_type": "markdown",
      "id": "214d69eb",
      "metadata": {
        "id": "214d69eb"
      },
      "source": [
        "Details of Digraph package: https://h1ros.github.io/posts/introduction-to-graphviz-in-jupyter-notebook/"
      ]
    },
    {
      "cell_type": "markdown",
      "id": "7f9321f8",
      "metadata": {
        "id": "7f9321f8"
      },
      "source": [
        "***"
      ]
    },
    {
      "cell_type": "markdown",
      "id": "317d9bca",
      "metadata": {
        "id": "317d9bca"
      },
      "source": [
        "### Section 1: Graph Preliminaries"
      ]
    },
    {
      "cell_type": "markdown",
      "id": "cc820c0e",
      "metadata": {
        "id": "cc820c0e"
      },
      "source": [
        "Let us start by implementing our Node and Graph data structure to incorporate weights in the graph"
      ]
    },
    {
      "cell_type": "code",
      "execution_count": 435,
      "id": "d8e6550f",
      "metadata": {
        "id": "d8e6550f"
      },
      "outputs": [],
      "source": [
        "class Node:\n",
        "    \n",
        "    def __init__(self, v):\n",
        "\n",
        "        self.value = v\n",
        "        self.inNeighbors = []\n",
        "        self.outNeighbors = []\n",
        "        \n",
        "        self.status = \"unvisited\"\n",
        "        self.estD = np.inf\n",
        "\n",
        "\n",
        "    def hasOutNeighbor(self, v):\n",
        "        \n",
        "        if v in self.outNeighbors:\n",
        "            return True\n",
        "        \n",
        "        return False\n",
        "        \n",
        "    def hasInNeighbor(self, v):\n",
        "        \n",
        "        if v in self.inNeighbors:\n",
        "            return True\n",
        "        \n",
        "        return False\n",
        "    \n",
        "    def hasNeighbor(self, v):\n",
        "        \n",
        "        if v in self.inNeighbors or v in self.outNeighbors:\n",
        "            return True\n",
        "        \n",
        "        return False\n",
        "    \n",
        "    def getOutNeighbors(self):\n",
        "        \n",
        "        return self.outNeighbors\n",
        "    \n",
        "    def getInNeighbors(self):\n",
        "        \n",
        "        return self.inNeighbors\n",
        "    \n",
        "    def getOutNeighborsWithWeights(self):\n",
        "        \n",
        "        return self.outNeighbors\n",
        "    \n",
        "    def getInNeighborsWithWeights(self):\n",
        "        \n",
        "        return self.inNeighbors\n",
        "    \n",
        "    # ------------------------------------------------\n",
        "    # Let us modify following two functions to incorporate weights\n",
        "    # ------------------------------------------------\n",
        "    \n",
        "    def addOutNeighbor(self,v,wt):\n",
        "        \n",
        "        self.outNeighbors.append((v,wt))\n",
        "    \n",
        "    def addInNeighbor(self,v,wt):\n",
        "        \n",
        "        self.inNeighbors.append((v,wt))\n",
        "        \n",
        "        \n",
        "    def __str__(self):\n",
        "        \n",
        "        return str(self.value) "
      ]
    },
    {
      "cell_type": "code",
      "execution_count": 436,
      "id": "30ab4c32",
      "metadata": {
        "id": "30ab4c32"
      },
      "outputs": [],
      "source": [
        "class Graph:\n",
        "    \n",
        "    def __init__(self):\n",
        "        \n",
        "        self.vertices = []\n",
        "\n",
        "    def addVertex(self,n):\n",
        "        \n",
        "        self.vertices.append(n)\n",
        "        \n",
        "    # ------------------------------------------------\n",
        "    # Let us modify following two functions to incorporate weights\n",
        "    # ------------------------------------------------\n",
        "\n",
        "    def addDiEdge(self, u, v, wt = 1):\n",
        "        \n",
        "        u.addOutNeighbor(v, wt = wt)\n",
        "        v.addInNeighbor(u, wt = wt)\n",
        "        \n",
        "    # add edges in both directions between u and v\n",
        "    def addBiEdge(self, u, v, wt = 1):\n",
        "        \n",
        "        self.addDiEdge(u, v, wt = wt)\n",
        "        self.addDiEdge(v, u, wt = wt)\n",
        "        \n",
        "            \n",
        "    # get a list of all the directed edges\n",
        "    # directed edges are a list of two vertices\n",
        "    def getDirEdges(self):\n",
        "        \n",
        "        ret = []\n",
        "        for v in self.vertices:\n",
        "            ret += [ [v, u] for u in v.outNeighbors ]\n",
        "        return ret\n",
        "    \n",
        "\n",
        "    # reverse the edge between u and v.  Multiple edges are not supported.\n",
        "    def reverseEdge(self,u,v):\n",
        "        \n",
        "        if u.hasOutNeighbor(v) and v.hasInNeighbor(u):\n",
        "            \n",
        "            if v.hasOutNeighbor(u) and u.hasInNeighbor(v): \n",
        "                return\n",
        "        \n",
        "            self.addDiEdge(v, u)\n",
        "            u.outNeighbors.remove(v)\n",
        "            v.inNeighbors.remove(u)        \n",
        "  \n",
        "    def __str__(self):\n",
        "        \n",
        "        ret = \"Graph with:\\n\"\n",
        "        ret += \"\\t Vertices:\\n\\t\"\n",
        "        for v in self.vertices:\n",
        "            ret += str(v) + \", \"\n",
        "        ret += \"\\n\"\n",
        "        ret += \"\\t Edges:\\n\\t\"\n",
        "        for a,b in self.getDirEdges():\n",
        "            ret += \"(\" + str(a) + \",\" + str(b[0]) + \",\" + str(b[1]) +\") \\n\\t\"\n",
        "        ret += \"\\n\"\n",
        "        return ret"
      ]
    },
    {
      "cell_type": "markdown",
      "id": "gl2l2kuf5860",
      "metadata": {
        "id": "gl2l2kuf5860"
      },
      "source": [
        "**NADAV** Fixed code above so when printed out, it displays the 2 vertices and weight properly."
      ]
    },
    {
      "cell_type": "markdown",
      "id": "7afa81de",
      "metadata": {
        "id": "7afa81de"
      },
      "source": [
        "Now that we have incorporated the weights, let us devise a plan to generate the graph"
      ]
    },
    {
      "cell_type": "code",
      "execution_count": 437,
      "id": "d3a8a344",
      "metadata": {
        "colab": {
          "base_uri": "https://localhost:8080/",
          "height": 560
        },
        "id": "d3a8a344",
        "outputId": "edd29151-7a58-4f2a-ad34-6ff089735229"
      },
      "outputs": [],
      "source": [
        "# dot = Digraph()\n",
        "\n",
        "# dot.edge('S', 'E')\n",
        "# dot.edge('S', 'A')\n",
        "# dot.edge('E', 'D')\n",
        "# dot.edge('D', 'A')\n",
        "# dot.edge('A', 'C')\n",
        "# dot.edge('B', 'A')\n",
        "# dot.edge('D', 'C')\n",
        "# dot.edge('C', 'B')\n",
        "\n",
        "#dot.view()\n",
        "# dot"
      ]
    },
    {
      "cell_type": "code",
      "execution_count": 438,
      "id": "90237e9f",
      "metadata": {
        "id": "90237e9f"
      },
      "outputs": [],
      "source": [
        "G = Graph()\n",
        "#for i in ['0', '1', '2', '3', '4', '5']:\n",
        "for i in ['S', 'E', 'A', 'D', 'B', 'C']:\n",
        "    G.addVertex( Node(i) )"
      ]
    },
    {
      "cell_type": "code",
      "execution_count": 439,
      "id": "e2160adc",
      "metadata": {
        "colab": {
          "base_uri": "https://localhost:8080/",
          "height": 660
        },
        "id": "e2160adc",
        "outputId": "a49e304a-2015-4457-cd89-e7a8d5cc0bca"
      },
      "outputs": [],
      "source": [
        "G = Graph()\n",
        "#for i in ['0', '1', '2', '3', '4', '5']:\n",
        "for i in ['S', 'E', 'A', 'D', 'B', 'C']:\n",
        "    G.addVertex( Node(i) )\n",
        "    \n",
        "V = G.vertices\n",
        "# dotNew = Digraph()\n",
        "\n",
        "# dotNew.edge('S', 'E', label = \"8\")\n",
        "G.addDiEdge( V[0], V[1], 8)\n",
        "\n",
        "# dotNew.edge('S', 'A', label = \"10\")\n",
        "G.addDiEdge( V[0], V[2] , 20)\n",
        "\n",
        "# dotNew.edge('E', 'D', label = \"1\")\n",
        "G.addDiEdge( V[1], V[3], 1)\n",
        "\n",
        "# dotNew.edge('D', 'A', label = \"4\")\n",
        "G.addDiEdge( V[3], V[2], 9) #was -4\n",
        "\n",
        "# dotNew.edge('A', 'C', label = \"2\")\n",
        "G.addDiEdge( V[2], V[5], 2)\n",
        "\n",
        "# dotNew.edge('B', 'A', label = \"1\")\n",
        "G.addDiEdge( V[4], V[2], 1 )\n",
        "\n",
        "# dotNew.edge('D', 'C', label = \"1\")\n",
        "G.addDiEdge( V[3], V[5], 1) #was -1\n",
        "\n",
        "# dotNew.edge('C', 'B', label = \"2\")\n",
        "G.addDiEdge( V[5], V[4], 1 ) #was -2\n",
        "\n",
        "# dotNew"
      ]
    },
    {
      "cell_type": "markdown",
      "id": "8fcbaefb",
      "metadata": {
        "id": "8fcbaefb"
      },
      "source": [
        "Second Example"
      ]
    },
    {
      "cell_type": "code",
      "execution_count": 440,
      "id": "dd4d197d",
      "metadata": {
        "colab": {
          "base_uri": "https://localhost:8080/",
          "height": 312
        },
        "id": "dd4d197d",
        "outputId": "9b564253-d543-4f7d-8e86-331c7d202986"
      },
      "outputs": [
        {
          "name": "stdout",
          "output_type": "stream",
          "text": [
            "Graph with:\n",
            "\t Vertices:\n",
            "\tGates, Packard, CS161, Union, Dish, \n",
            "\t Edges:\n",
            "\t(Gates,Packard,1) \n",
            "\t(Packard,Gates,1) \n",
            "\t(Packard,CS161,1) \n",
            "\t(Packard,Dish,2) \n",
            "\t(CS161,Packard,1) \n",
            "\t(CS161,Union,4) \n",
            "\t(Union,CS161,4) \n",
            "\t(Union,Dish,10) \n",
            "\t(Dish,Union,10) \n",
            "\t(Dish,Gates,3) \n",
            "\t\n",
            "\n"
          ]
        }
      ],
      "source": [
        "T = Graph()\n",
        "for i in ['Gates', \n",
        "          'Packard', \n",
        "          'CS161', \n",
        "          'Union', \n",
        "          'Dish']:\n",
        "    T.addVertex( Node(i) )\n",
        "\n",
        "# dot2 = Digraph()\n",
        "\n",
        "V = T.vertices\n",
        "#addBiEdge\n",
        "T.addBiEdge( V[0], V[1], 1)\n",
        "# dot2.edge('Gates', 'Packard', label = \"1\") \n",
        "# dot2.edge('Packard', 'Gates') \n",
        "\n",
        "T.addBiEdge( V[1], V[2] , 1)\n",
        "# dot2.edge('Packard', 'CS161', label = \"1\") \n",
        "# dot2.edge('CS161', 'Packard') \n",
        "\n",
        "T.addBiEdge( V[2], V[3], 4)\n",
        "# dot2.edge('CS161', 'Union', label = \"4\") \n",
        "# dot2.edge('Union', 'CS161') \n",
        "\n",
        "T.addBiEdge( V[3], V[4], 10)\n",
        "# dot2.edge('Union', 'Dish', label = \"10\") \n",
        "# dot2.edge('Dish', 'Union') \n",
        "\n",
        "T.addDiEdge( V[1], V[4], 2)\n",
        "# dot2.edge('Packard', 'Dish', label = \"-2\") \n",
        "\n",
        "T.addDiEdge( V[4], V[0], 3)\n",
        "# dot2.edge('Dish', 'Gates', label = \"-3\") \n",
        "\n",
        "\n",
        "print(T)\n"
      ]
    },
    {
      "cell_type": "markdown",
      "id": "RF6_dGl_DvSD",
      "metadata": {
        "id": "RF6_dGl_DvSD"
      },
      "source": [
        "**NADAV** - Added weights to the graph to help understand the potential path and or any errors that might occure. "
      ]
    },
    {
      "cell_type": "code",
      "execution_count": 441,
      "id": "fb865755",
      "metadata": {
        "colab": {
          "base_uri": "https://localhost:8080/"
        },
        "id": "fb865755",
        "outputId": "686b9698-e2a3-4797-9170-77e0cee07e72"
      },
      "outputs": [
        {
          "name": "stdout",
          "output_type": "stream",
          "text": [
            "Graph with:\n",
            "\t Vertices:\n",
            "\tS, E, A, D, B, C, \n",
            "\t Edges:\n",
            "\t(S,E,8) \n",
            "\t(S,A,20) \n",
            "\t(E,D,1) \n",
            "\t(A,C,2) \n",
            "\t(D,A,9) \n",
            "\t(D,C,1) \n",
            "\t(B,A,1) \n",
            "\t(C,B,1) \n",
            "\t\n",
            "\n"
          ]
        }
      ],
      "source": [
        "print(G)"
      ]
    },
    {
      "cell_type": "markdown",
      "id": "0ed62d3b",
      "metadata": {
        "id": "0ed62d3b"
      },
      "source": [
        "***"
      ]
    },
    {
      "cell_type": "markdown",
      "id": "94392ed1",
      "metadata": {
        "id": "94392ed1"
      },
      "source": [
        "### Section 2: Dijkstra Algorithm"
      ]
    },
    {
      "cell_type": "code",
      "execution_count": null,
      "id": "b4d19469",
      "metadata": {
        "colab": {
          "base_uri": "https://localhost:8080/"
        },
        "id": "b4d19469",
        "outputId": "1938ade3-a82a-42c6-b603-7be03683dbcc"
      },
      "outputs": [],
      "source": []
    },
    {
      "cell_type": "code",
      "execution_count": 442,
      "id": "2f0abbb0",
      "metadata": {},
      "outputs": [
        {
          "name": "stdout",
          "output_type": "stream",
          "text": [
            "S > 0\n",
            "E > S > 8\n",
            "A > B > C > D > E > S > 12\n",
            "D > E > S > 9\n",
            "B > C > D > E > S > 11\n",
            "C > D > E > S > 10\n"
          ]
        }
      ],
      "source": [
        "# NEW - wights and paths\n",
        "\n",
        "from ast import Break\n",
        "import collections\n",
        "from dis import disco\n",
        "import pprint\n",
        "\n",
        "import sys\n",
        "def dijkstra(w, G):\n",
        "    try:\n",
        "      for v in G.vertices:  \n",
        "        v.estD = math.inf  \n",
        "      w.estD = 0\n",
        "      \n",
        "      unsureVertices = G.vertices[:]\n",
        "      sureVertices = []\n",
        "      Memory = collections.defaultdict(list)\n",
        "  \n",
        "      #create a dictionary of lists with each node as it self being a starting point\n",
        "      for i in G.vertices:     \n",
        "        Memory[i.value].append(i.value)\n",
        "\n",
        "      while len(unsureVertices) > 0:\n",
        "          u = None\n",
        "          minD = math.inf\n",
        "          for x in unsureVertices: # check all vertices\n",
        "              if x.estD < 0:       # check for negatives\n",
        "                raise ValueError \n",
        "              if x.estD < minD:    # if node is smaller than currrent min distance\n",
        "                  minD = x.estD    # make that min the minimum\n",
        "                  u = x              \n",
        "          if u == None:\n",
        "              return\n",
        "\n",
        "          for v, wt in u.getOutNeighborsWithWeights():\n",
        "              if v in sureVertices:\n",
        "                  continue\n",
        "              if u.estD + wt < v.estD:            # if 2 node path is quicker\n",
        "                  v.estD = u.estD + wt\n",
        "                  Memory[v.value].clear()\n",
        "                  Memory[v.value].append(v.value)  # add self to list\n",
        "                  for i in Memory.get(u.value):\n",
        "                      Memory[v.value].append(i)\n",
        "\n",
        "          unsureVertices.remove(u)\n",
        "          sureVertices.append(u)\n",
        "          \n",
        "    except ValueError: \n",
        "      sys.exit(\"Negative weights used\")\n",
        "    return Memory\n",
        "      \n",
        "\n",
        "\n",
        "w = G.vertices[0]\n",
        "dijkstra(w, G)\n",
        "paths = dijkstra(w, G)\n",
        "# pprint.pprint(dijkstra(w, G))\n",
        "\n",
        "for i,j in paths.items():\n",
        "  for k in j:\n",
        "    print(k, end=\" > \") \n",
        "  for l in G.vertices:\n",
        "    if str(l) == str(i):\n",
        "      print(l.estD)\n",
        "   \n",
        "\n",
        "\n",
        "\n",
        "\n",
        "#   S >> S                        0\n",
        "#   E >> E , S                    8\n",
        "#   D >> D , E , S                9\n",
        "#   C >> C , D , E , S            10\n",
        "#   B >> B , C , D , E , S        11\n",
        "#   A >> A , B , C , D , E , S    12"
      ]
    },
    {
      "cell_type": "code",
      "execution_count": 443,
      "id": "4df8a7a1",
      "metadata": {
        "id": "4df8a7a1"
      },
      "outputs": [],
      "source": [
        "#OLD - wights only\n",
        "\n",
        "def dijkstra(w, G):\n",
        "  try:\n",
        "    for v in G.vertices:\n",
        "        v.estD = math.inf\n",
        "    w.estD = 0\n",
        "    unsureVertices = G.vertices[:]\n",
        "\n",
        "    while len(unsureVertices) > 0:\n",
        "    \n",
        "        # find the u with the minimum estD in the dumbest way possible\n",
        "        u = None\n",
        "        minD = math.inf\n",
        "        for x in unsureVertices:\n",
        "          if x.estD < 0 :\n",
        "            raise ValueError\n",
        "          if x.estD < minD:\n",
        "              minD = x.estD\n",
        "              u = x\n",
        "        \n",
        "        if u == None:\n",
        "            # then there is nothing more that I can reach\n",
        "            return \n",
        "        \n",
        "        # update u's neighbors\n",
        "        for v, wt in u.getOutNeighborsWithWeights():\n",
        "\n",
        "            if u.estD + wt < v.estD:\n",
        "                v.estD = u.estD + wt\n",
        "        \n",
        "        unsureVertices.remove(u)\n",
        "        # path.append(u)\n",
        "  except ValueError:\n",
        "    print(\"Can not take a negative weight\")\n",
        "    pass\n",
        "  return "
      ]
    },
    {
      "cell_type": "markdown",
      "id": "Uk9hrwrI9gB7",
      "metadata": {
        "id": "Uk9hrwrI9gB7"
      },
      "source": [
        "**NADAV** - Added negative weight control to the function above."
      ]
    },
    {
      "cell_type": "code",
      "execution_count": 444,
      "id": "5bffc218",
      "metadata": {
        "colab": {
          "base_uri": "https://localhost:8080/"
        },
        "id": "5bffc218",
        "outputId": "aa44df19-c62b-4ffc-b99f-3853b92d4814"
      },
      "outputs": [
        {
          "name": "stdout",
          "output_type": "stream",
          "text": [
            "shortest path to each node: \n",
            "S 0\n",
            "E 8\n",
            "A 12\n",
            "D 9\n",
            "B 11\n",
            "C 10\n"
          ]
        }
      ],
      "source": [
        "w = G.vertices[0]\n",
        "dijkstra(w, G)\n",
        "# print(path)\n",
        "# for i in path:\n",
        "print(\"shortest path to each node: \")\n",
        "for i in G.vertices:\n",
        "   print(i, i.estD)"
      ]
    },
    {
      "cell_type": "code",
      "execution_count": 445,
      "id": "HrHQXY6K9caQ",
      "metadata": {
        "colab": {
          "base_uri": "https://localhost:8080/"
        },
        "id": "HrHQXY6K9caQ",
        "outputId": "454fb683-767b-431d-87b7-d89014637bf7"
      },
      "outputs": [
        {
          "name": "stdout",
          "output_type": "stream",
          "text": [
            "S inf\n",
            "E inf\n",
            "A 0\n",
            "D inf\n",
            "B 3\n",
            "C 2\n"
          ]
        }
      ],
      "source": [
        "w = G.vertices[2]\n",
        "dijkstra(w, G)\n",
        "\n",
        "for v in G.vertices:\n",
        "    print(v, v.estD)\n",
        "\n"
      ]
    },
    {
      "cell_type": "markdown",
      "id": "0022f18f",
      "metadata": {
        "id": "0022f18f"
      },
      "source": [
        "***"
      ]
    },
    {
      "cell_type": "code",
      "execution_count": 461,
      "id": "tzlYc4FbmLko",
      "metadata": {
        "colab": {
          "base_uri": "https://localhost:8080/"
        },
        "id": "tzlYc4FbmLko",
        "outputId": "b89f9606-724c-47a8-e6b4-0617641dcc55"
      },
      "outputs": [
        {
          "name": "stdout",
          "output_type": "stream",
          "text": [
            "Graph with:\n",
            "\t Vertices:\n",
            "\tGates, Packard, CS161, Union, Dish, \n",
            "\t Edges:\n",
            "\t(Gates,Packard,1) \n",
            "\t(Packard,Gates,1) \n",
            "\t(Packard,CS161,1) \n",
            "\t(Packard,Dish,22) \n",
            "\t(CS161,Packard,1) \n",
            "\t(CS161,Union,4) \n",
            "\t(Union,CS161,4) \n",
            "\t(Union,Dish,10) \n",
            "\t(Dish,Union,10) \n",
            "\t(Dish,Gates,3) \n",
            "\t\n",
            "\n"
          ]
        }
      ],
      "source": [
        "T = Graph()\n",
        "for i in ['Gates', \n",
        "          'Packard', \n",
        "          'CS161', \n",
        "          'Union', \n",
        "          'Dish']:\n",
        "    T.addVertex( Node(i) )\n",
        "\n",
        "# dot2 = Digraph()\n",
        "\n",
        "V = T.vertices\n",
        "#addBiEdge\n",
        "T.addBiEdge( V[0], V[1], 1)\n",
        "# dot2.edge('Gates', 'Packard', label = \"1\") \n",
        "# dot2.edge('Packard', 'Gates') \n",
        "\n",
        "T.addBiEdge( V[1], V[2] , 1)\n",
        "# dot2.edge('Packard', 'CS161', label = \"1\") \n",
        "# dot2.edge('CS161', 'Packard') \n",
        "\n",
        "T.addBiEdge( V[2], V[3], 4)\n",
        "# dot2.edge('CS161', 'Union', label = \"4\") \n",
        "# dot2.edge('Union', 'CS161') \n",
        "\n",
        "T.addBiEdge( V[3], V[4], 10)\n",
        "# dot2.edge('Union', 'Dish', label = \"10\") \n",
        "# dot2.edge('Dish', 'Union') \n",
        "\n",
        "T.addDiEdge( V[1], V[4], 22)\n",
        "# dot2.edge('Packard', 'Dish', label = \"-2\") \n",
        "\n",
        "T.addDiEdge( V[4], V[0], 3)\n",
        "# dot2.edge('Dish', 'Gates', label = \"-3\") \n",
        "\n",
        "\n",
        "print(T)\n"
      ]
    },
    {
      "cell_type": "markdown",
      "id": "authorized-brook",
      "metadata": {
        "id": "authorized-brook"
      },
      "source": [
        "### <font color='red'> Activity 1: Code Reflections. </font>"
      ]
    },
    {
      "cell_type": "markdown",
      "id": "h9ILBhQ18KA3",
      "metadata": {
        "id": "h9ILBhQ18KA3"
      },
      "source": [
        "### TODO ###\n",
        "### Good Luck ###\n",
        "\n",
        "The way we perform the operations in Dijkstra's algorithm means that all weights must stay positive at all times. Since the current node is allocated with zero weight, it will break the program if a vetrex with negative weight would be passed into the function.\n"
      ]
    },
    {
      "cell_type": "markdown",
      "id": "f9b31a04",
      "metadata": {
        "id": "f9b31a04"
      },
      "source": [
        "### <font color='red'> Activity 2: Modify above code to do Bellman-Ford. Make sure you test for negative cycles and compare its performance with Dijkstra. </font>"
      ]
    },
    {
      "cell_type": "code",
      "execution_count": 447,
      "id": "8d176b03",
      "metadata": {
        "id": "8d176b03"
      },
      "outputs": [],
      "source": [
        "## Bellman-Ford ##\n",
        "#### TODO ####\n",
        "### Good Luck ###\n",
        "\n",
        "def Bellman(w, G):\n",
        "  sureVertices = []\n",
        "  for v in G.vertices:        # LINE 1\n",
        "      v.estD = math.inf\n",
        "  w.estD = 0                  # LINE 2\n",
        "  unsureVertices = G.vertices[:]\n",
        "\n",
        "  # while len(unsureVertices) > 0:\n",
        "  for i in range(len(G.vertices)-1):\n",
        "    for u in unsureVertices:\n",
        "      for v, wt in u.getOutNeighborsWithWeights():\n",
        "        # print(\"From: \" + str(u) + \" To: \" + str(v) + \" With weight: \" + str(wt))\n",
        "        v.estD = min(v.estD, u.estD + wt)\n",
        "\n",
        "      unsureVertices.remove(u)\n",
        "      sureVertices.append(u)\n",
        "\n"
      ]
    },
    {
      "cell_type": "code",
      "execution_count": 462,
      "id": "fBQIfs21He9t",
      "metadata": {
        "colab": {
          "base_uri": "https://localhost:8080/",
          "height": 804
        },
        "id": "fBQIfs21He9t",
        "outputId": "5bfd5d4a-e79b-4cbc-b608-ac0c9801473c"
      },
      "outputs": [
        {
          "name": "stdout",
          "output_type": "stream",
          "text": [
            "S 0\n",
            "E 8\n",
            "A 10\n",
            "D 9\n",
            "B 14\n",
            "C 10\n"
          ]
        }
      ],
      "source": [
        "## checking Bellman-ford algorithm\n",
        "graph = G\n",
        "q = graph.vertices[0]\n",
        "\n",
        "Bellman(q, graph)\n",
        "for v in graph.vertices:\n",
        "    print(v.value, v.estD)\n",
        "# dot2"
      ]
    },
    {
      "cell_type": "markdown",
      "id": "cleared-claim",
      "metadata": {
        "id": "cleared-claim"
      },
      "source": [
        "### <font color='red'> Activity 3: Have a look at the following Python's implementation of heap (priority Queues): HeapDict, and try to convert our Dijkstra's implementation to use this heap data structure instead. </font>"
      ]
    },
    {
      "cell_type": "code",
      "execution_count": 450,
      "metadata": {},
      "outputs": [
        {
          "name": "stdout",
          "output_type": "stream",
          "text": [
            "Graph with:\n",
            "\t Vertices:\n",
            "\tGates, Packard, CS161, Union, Dish, \n",
            "\t Edges:\n",
            "\t(Gates,Packard,1) \n",
            "\t(Packard,Gates,1) \n",
            "\t(Packard,CS161,1) \n",
            "\t(Packard,Dish,2) \n",
            "\t(CS161,Packard,1) \n",
            "\t(CS161,Union,4) \n",
            "\t(Union,CS161,4) \n",
            "\t(Union,Dish,10) \n",
            "\t(Dish,Union,10) \n",
            "\t(Dish,Gates,3) \n",
            "\t\n",
            "\n"
          ]
        }
      ],
      "source": [
        "T = Graph()\n",
        "for i in ['Gates', \n",
        "          'Packard', \n",
        "          'CS161', \n",
        "          'Union', \n",
        "          'Dish']:\n",
        "    T.addVertex( Node(i) )\n",
        "\n",
        "# dot2 = Digraph()\n",
        "\n",
        "V = T.vertices\n",
        "#addBiEdge\n",
        "T.addDiEdge( V[0], V[1], 1)\n",
        "T.addDiEdge( V[1], V[0], 1)\n",
        "\n",
        "# dot2.edge('Gates', 'Packard', label = \"1\") \n",
        "# dot2.edge('Packard', 'Gates') \n",
        "\n",
        "T.addDiEdge( V[1], V[2] , 1)\n",
        "T.addDiEdge( V[2], V[1] , 1)\n",
        "\n",
        "# dot2.edge('Packard', 'CS161', label = \"1\") \n",
        "# dot2.edge('CS161', 'Packard') \n",
        "\n",
        "T.addDiEdge( V[2], V[3], 4)\n",
        "T.addDiEdge( V[3], V[2], 4)\n",
        "\n",
        "# dot2.edge('CS161', 'Union', label = \"4\") \n",
        "# dot2.edge('Union', 'CS161') \n",
        "\n",
        "T.addDiEdge( V[3], V[4], 10)\n",
        "T.addDiEdge( V[4], V[3], 10)\n",
        "\n",
        "# dot2.edge('Union', 'Dish', label = \"10\") \n",
        "# dot2.edge('Dish', 'Union') \n",
        "\n",
        "T.addDiEdge( V[1], V[4], 2)\n",
        "# dot2.edge('Packard', 'Dish', label = \"-2\") \n",
        "\n",
        "T.addDiEdge( V[4], V[0], 3)\n",
        "# dot2.edge('Dish', 'Gates', label = \"-3\") \n",
        "\n",
        "\n",
        "print(T)\n"
      ]
    },
    {
      "cell_type": "code",
      "execution_count": 451,
      "id": "ea6b556d",
      "metadata": {},
      "outputs": [],
      "source": [
        "G = Graph()\n",
        "#for i in ['0', '1', '2', '3', '4', '5']:\n",
        "for i in ['S', 'E', 'A', 'D', 'B', 'C']:\n",
        "    G.addVertex( Node(i) )\n",
        "    \n",
        "V = G.vertices\n",
        "# dotNew = Digraph()\n",
        "\n",
        "# dotNew.edge('S', 'E', label = \"8\")\n",
        "G.addDiEdge( V[0], V[1], 8)\n",
        "\n",
        "# dotNew.edge('S', 'A', label = \"10\")\n",
        "G.addDiEdge( V[0], V[2] , 10)\n",
        "\n",
        "# dotNew.edge('E', 'D', label = \"1\")\n",
        "G.addDiEdge( V[1], V[3], 1)\n",
        "\n",
        "# dotNew.edge('D', 'A', label = \"4\")\n",
        "G.addDiEdge( V[3], V[2], 4) #was -4\n",
        "\n",
        "# dotNew.edge('A', 'C', label = \"2\")\n",
        "G.addDiEdge( V[2], V[5], 2)\n",
        "\n",
        "# dotNew.edge('B', 'A', label = \"1\")\n",
        "G.addDiEdge( V[4], V[2], 1 )\n",
        "\n",
        "# dotNew.edge('D', 'C', label = \"1\")\n",
        "G.addDiEdge( V[3], V[5], 1) #was -1\n",
        "\n",
        "# dotNew.edge('C', 'B', label = \"2\")\n",
        "G.addDiEdge( V[5], V[4], 2 ) #was -2\n",
        "\n",
        "# dotNew"
      ]
    },
    {
      "cell_type": "code",
      "execution_count": 452,
      "id": "personal-bernard",
      "metadata": {
        "colab": {
          "base_uri": "https://localhost:8080/",
          "height": 391
        },
        "id": "personal-bernard",
        "outputId": "deb7eb63-b8ad-4a17-88c5-ef3324e8093e"
      },
      "outputs": [
        {
          "name": "stdout",
          "output_type": "stream",
          "text": [
            "Dish 0\n",
            "Gates 3\n",
            "Packard 4\n",
            "CS161 5\n",
            "Union 9\n"
          ]
        }
      ],
      "source": [
        "### TODO ###\n",
        "### Good Luck ###\n",
        "\n",
        "import heapq\n",
        "from collections import defaultdict\n",
        "import queue\n",
        "import heapdict as heap\n",
        "\n",
        "\n",
        "def dijkstraHEAP(w, G):\n",
        "    totalDistance = {}\n",
        "    totalDistance[w] = 0\n",
        "    queue = heap.heapdict()\n",
        "\n",
        "    for i in G.vertices:\n",
        "        if i != w:\n",
        "            totalDistance[i] = math.inf\n",
        "        queue[i] = totalDistance[i]\n",
        "    while len(queue)> 0:\n",
        "        u = queue.popitem()[0]\n",
        "        for x, weight in u.getOutNeighborsWithWeights():\n",
        "            temp = totalDistance[u] + weight\n",
        "            if temp < totalDistance[x]:\n",
        "                totalDistance[x] = temp\n",
        "                queue[x] = temp\n",
        "\n",
        "    return totalDistance\n",
        "            \n",
        "\n",
        "\n",
        "dist = dijkstraHEAP(T.vertices[4], T)\n",
        "for k, v in dist.items():\n",
        "\tprint(k,v)\n"
      ]
    },
    {
      "cell_type": "markdown",
      "id": "a85ea894",
      "metadata": {
        "id": "a85ea894"
      },
      "source": [
        "### Section 4: Dynammc Programming"
      ]
    },
    {
      "cell_type": "markdown",
      "id": "7f7a5d29",
      "metadata": {
        "id": "7f7a5d29"
      },
      "source": [
        "We discussed Fibonacci numbers sequence as a good example of Dynamic Programming. Let us have a look at its computation."
      ]
    },
    {
      "cell_type": "code",
      "execution_count": 453,
      "id": "91575189",
      "metadata": {
        "id": "91575189"
      },
      "outputs": [],
      "source": [
        "def Fibonacci(n):\n",
        "    if n == 0 or n == 1:\n",
        "        return 1\n",
        "    return Fibonacci(n-1) + Fibonacci(n-2)\n",
        "                "
      ]
    },
    {
      "cell_type": "code",
      "execution_count": 454,
      "id": "61aff298",
      "metadata": {
        "id": "61aff298"
      },
      "outputs": [
        {
          "name": "stdout",
          "output_type": "stream",
          "text": [
            "8\n"
          ]
        }
      ],
      "source": [
        "def fasterFibonacci(n):\n",
        "    \n",
        "    F = [1 for i in range(n+1)]\n",
        "\n",
        "    for i in range(2,n+1):\n",
        "        F[i] = F[i-1] + F[i-2]\n",
        "        \n",
        "    return F[n]\n",
        "\n",
        "print(fasterFibonacci(5))"
      ]
    },
    {
      "cell_type": "code",
      "execution_count": 455,
      "id": "41e606a0",
      "metadata": {
        "id": "41e606a0"
      },
      "outputs": [],
      "source": [
        "def Fibonacci_topdown(n,F):\n",
        "    \n",
        "    if F[n] != None:\n",
        "        return F[n]\n",
        "    \n",
        "    F[n] = Fibonacci_topdown(n-1, F) + Fibonacci_topdown(n-2, F)\n",
        "    return F[n]"
      ]
    },
    {
      "cell_type": "markdown",
      "id": "8e71bd90",
      "metadata": {
        "id": "8e71bd90"
      },
      "source": [
        "Have a look at above different ways to compute Fibonacci numbers. Report on their running time. Make sure you know the difference between them."
      ]
    },
    {
      "cell_type": "markdown",
      "id": "01e640cf",
      "metadata": {
        "id": "01e640cf"
      },
      "source": [
        "***"
      ]
    },
    {
      "cell_type": "markdown",
      "id": "caroline-debut",
      "metadata": {
        "id": "caroline-debut"
      },
      "source": [
        "### <font color='red'> Activity 4: Write a brief report comparing 'Dynamic Programming' with 'Divide-and-Conquer' strategy? (If you are not familiar with Divide-and-Conquer strategy - revisit Quick Sort or Binary Search algorithms. You should address why we can not use DP for Quick Sort or Binary Sort). </font>"
      ]
    },
    {
      "cell_type": "code",
      "execution_count": 456,
      "id": "wicked-marketing",
      "metadata": {
        "id": "wicked-marketing"
      },
      "outputs": [],
      "source": [
        "### TODO ###\n",
        "### Good Luck ###\n",
        "\n",
        "\n",
        "\n",
        "\n",
        "\n",
        "\n",
        "\n"
      ]
    },
    {
      "cell_type": "markdown",
      "id": "pleased-retail",
      "metadata": {
        "id": "pleased-retail"
      },
      "source": [
        "### <font color='red'> Activity 5: You are running up a staircase with a total of n steps. You can hop either 1 step, 2 steps or 3 steps at at time. Write a DP program to determine how many possible ways you can run up the stairs? (Hint: Start with a recursive solution, and then later move to top-down approach of DP). </font>"
      ]
    },
    {
      "cell_type": "code",
      "execution_count": 469,
      "id": "dried-float",
      "metadata": {
        "id": "dried-float"
      },
      "outputs": [],
      "source": [
        "### TODO ###\n",
        "### Good Luck ###\n",
        "\n",
        "def threeStep(n):\n",
        "    if n == 0:\n",
        "        return 1\n",
        "    elif n < 0:\n",
        "        return 0\n",
        "    else:\n",
        "        return threeStep(n-3) + threeStep(n-2) + threeStep(n-1)\n",
        "\n",
        "def threeStepDP(n):\n",
        "    f = [0, 1 ,2]\n",
        "\n",
        "    for i in range(3, n+1):\n",
        "        f.append(f[i-1] + f[i-2] + f[i-3])\n",
        "    return f[n]"
      ]
    },
    {
      "cell_type": "code",
      "execution_count": 472,
      "id": "ed9a6ae0",
      "metadata": {},
      "outputs": [
        {
          "name": "stdout",
          "output_type": "stream",
          "text": [
            "4\n",
            "24\n",
            "149\n",
            "927\n",
            "5768\n",
            "230\n",
            "101902\n",
            "45152016\n",
            "20006521300\n",
            "151404293106684183601223222\n"
          ]
        }
      ],
      "source": [
        "#Test 3 stair Fib\n",
        "print(threeStep(3))\n",
        "print(threeStep(6))\n",
        "print(threeStep(9))\n",
        "print(threeStep(12))\n",
        "print(threeStep(15))\n",
        "\n",
        "print(threeStepDP(10))\n",
        "print(threeStepDP(20))\n",
        "print(threeStepDP(30))\n",
        "print(threeStepDP(40))\n",
        "print(threeStepDP(100))\n",
        "\n"
      ]
    },
    {
      "cell_type": "markdown",
      "id": "ebd772d0",
      "metadata": {
        "id": "ebd772d0"
      },
      "source": [
        "### <font color='red'> Activity 6: Implement Floyd-Warshal algorithm using above data structure (that is Node and Graph). Make sure to test all the use-cases. </font>"
      ]
    },
    {
      "cell_type": "code",
      "execution_count": 459,
      "id": "a9425176",
      "metadata": {},
      "outputs": [
        {
          "name": "stdout",
          "output_type": "stream",
          "text": [
            "Graph with:\n",
            "\t Vertices:\n",
            "\tS, E, A, D, B, C, \n",
            "\t Edges:\n",
            "\t(S,E,8) \n",
            "\t(S,A,10) \n",
            "\t(E,D,1) \n",
            "\t(A,C,2) \n",
            "\t(D,A,4) \n",
            "\t(D,C,1) \n",
            "\t(B,A,1) \n",
            "\t(C,B,2) \n",
            "\t\n",
            "\n"
          ]
        }
      ],
      "source": [
        "X = Graph()\n",
        "#for i in ['0', '1', '2', '3', '4', '5']:\n",
        "for i in ['S', 'E', 'A', 'D', 'B', 'C']:\n",
        "    X.addVertex( Node(i) )\n",
        "    \n",
        "V = X.vertices\n",
        "# dotNew = Digraph()\n",
        "\n",
        "# dotNew.edge('S', 'E', label = \"8\")\n",
        "X.addDiEdge( V[0], V[1], 8)\n",
        "\n",
        "# dotNew.edge('S', 'A', label = \"10\")\n",
        "X.addDiEdge( V[0], V[2] , 10)\n",
        "\n",
        "# dotNew.edge('E', 'D', label = \"1\")\n",
        "X.addDiEdge( V[1], V[3], 1)\n",
        "\n",
        "# dotNew.edge('D', 'A', label = \"4\")\n",
        "X.addDiEdge( V[3], V[2], 4) #was -4\n",
        "\n",
        "# dotNew.edge('A', 'C', label = \"2\")\n",
        "X.addDiEdge( V[2], V[5], 2)\n",
        "\n",
        "# dotNew.edge('B', 'A', label = \"1\")\n",
        "X.addDiEdge( V[4], V[2], 1 )\n",
        "\n",
        "# dotNew.edge('D', 'C', label = \"1\")\n",
        "X.addDiEdge( V[3], V[5], 1) #was -1\n",
        "\n",
        "# dotNew.edge('C', 'B', label = \"2\")\n",
        "X.addDiEdge( V[5], V[4], 2 ) #was -2\n",
        "\n",
        "# dotNew\n",
        "\n",
        "print(X)"
      ]
    },
    {
      "cell_type": "code",
      "execution_count": 473,
      "id": "edf0acbd",
      "metadata": {
        "id": "edf0acbd"
      },
      "outputs": [
        {
          "name": "stdout",
          "output_type": "stream",
          "text": [
            "[[ 0.  8. 10.  9. 12. 10.]\n",
            " [inf  0.  5.  1.  4.  2.]\n",
            " [inf inf  0. inf  4.  2.]\n",
            " [inf inf  4.  0.  3.  1.]\n",
            " [inf inf  1. inf  0.  3.]\n",
            " [inf inf  3. inf  2.  0.]]\n"
          ]
        }
      ],
      "source": [
        "#### TODO ####\n",
        "### Good Luck ###\n",
        "import numpy as np\n",
        "\n",
        "\n",
        "def Floyd(Y):\n",
        "      V = Y.vertices\n",
        "      NoV = len(V)\n",
        "      test = []\n",
        "      for u in V:\n",
        "        for v in V:\n",
        "            if u == v:\n",
        "                  test.append(0)\n",
        "            else:\n",
        "                  check = 0\n",
        "                  for k ,wt in v.getOutNeighborsWithWeights():\n",
        "                        if str(k) == str(u):\n",
        "                              check = 1\n",
        "                              test.append(wt)\n",
        "                  if check == 0:\n",
        "                        test.append(math.inf)\n",
        "      # print(test, \"here\")\n",
        "      Counter = 0\n",
        "      t2 = np.zeros((NoV,NoV))\n",
        "\n",
        "      # print(ABC)\n",
        "      for i in range(NoV):\n",
        "            for j in range(NoV):\n",
        "                  t2[j][i] = test[Counter]\n",
        "                  Counter += 1\n",
        "      \n",
        "\n",
        "      for k in range(1, NoV):\n",
        "            for i in range(0, NoV):\n",
        "                  for j in range(0, NoV):\n",
        "                        if t2[i][j] > t2[i][k] + t2[k][j]:\n",
        "                              t2[i][j] = t2[i][k] + t2[k][j]\n",
        "      \n",
        "      print(t2)\n",
        "\n",
        "Floyd(X)\n"
      ]
    },
    {
      "cell_type": "code",
      "execution_count": null,
      "id": "ce516d75",
      "metadata": {},
      "outputs": [],
      "source": []
    },
    {
      "cell_type": "markdown",
      "id": "e143dc12",
      "metadata": {
        "id": "e143dc12"
      },
      "source": [
        "***"
      ]
    },
    {
      "cell_type": "markdown",
      "id": "79cfe7ab",
      "metadata": {
        "id": "79cfe7ab"
      },
      "source": [
        "***"
      ]
    }
  ],
  "metadata": {
    "colab": {
      "collapsed_sections": [],
      "name": "Mod_Graphs_II1.ipynb",
      "provenance": []
    },
    "kernelspec": {
      "display_name": "Python 3.9.12",
      "language": "python",
      "name": "python3"
    },
    "language_info": {
      "codemirror_mode": {
        "name": "ipython",
        "version": 3
      },
      "file_extension": ".py",
      "mimetype": "text/x-python",
      "name": "python",
      "nbconvert_exporter": "python",
      "pygments_lexer": "ipython3",
      "version": "3.9.12"
    },
    "vscode": {
      "interpreter": {
        "hash": "ec72d4b434a52c73d2ebef3bbd2110c276a0d9d29f1e9b32a7aa473ecd4bdfc5"
      }
    }
  },
  "nbformat": 4,
  "nbformat_minor": 5
}
