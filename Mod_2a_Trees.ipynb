{
  "cells": [
    {
      "cell_type": "markdown",
      "metadata": {
        "id": "view-in-github",
        "colab_type": "text"
      },
      "source": [
        "<a href=\"https://colab.research.google.com/github/nadavfedida/SIT320/blob/main/Mod_2a_Trees.ipynb\" target=\"_parent\"><img src=\"https://colab.research.google.com/assets/colab-badge.svg\" alt=\"Open In Colab\"/></a>"
      ]
    },
    {
      "cell_type": "markdown",
      "id": "imposed-playlist",
      "metadata": {
        "id": "imposed-playlist"
      },
      "source": [
        "# Lab 2a: Trees"
      ]
    },
    {
      "cell_type": "markdown",
      "id": "d97cce87",
      "metadata": {
        "id": "d97cce87"
      },
      "source": [
        "Lab associated with Module 2a: Trees"
      ]
    },
    {
      "cell_type": "markdown",
      "id": "5c7f2e9d",
      "metadata": {
        "id": "5c7f2e9d"
      },
      "source": [
        "***"
      ]
    },
    {
      "cell_type": "code",
      "execution_count": 1,
      "id": "5b495ad0",
      "metadata": {
        "colab": {
          "base_uri": "https://localhost:8080/",
          "height": 17
        },
        "id": "5b495ad0",
        "outputId": "3f6355e3-c311-4669-a24b-53f82ed50cd9"
      },
      "outputs": [
        {
          "output_type": "display_data",
          "data": {
            "text/plain": [
              "<IPython.core.display.HTML object>"
            ],
            "text/html": [
              "<style>.container { width:95% !important; }</style>"
            ]
          },
          "metadata": {}
        }
      ],
      "source": [
        "# The following lines are used to increase the width of cells to utilize more space on the screen \n",
        "from IPython.core.display import display, HTML\n",
        "display(HTML(\"<style>.container { width:95% !important; }</style>\"))"
      ]
    },
    {
      "cell_type": "markdown",
      "id": "3a2b855c",
      "metadata": {
        "id": "3a2b855c"
      },
      "source": [
        "***"
      ]
    },
    {
      "cell_type": "markdown",
      "id": "9d0921a0",
      "metadata": {
        "id": "9d0921a0"
      },
      "source": [
        "### Section 0: Imports"
      ]
    },
    {
      "cell_type": "code",
      "execution_count": 2,
      "id": "477622d5",
      "metadata": {
        "id": "477622d5"
      },
      "outputs": [],
      "source": [
        "import numpy as np"
      ]
    },
    {
      "cell_type": "markdown",
      "id": "88f9f12c",
      "metadata": {
        "id": "88f9f12c"
      },
      "source": [
        "Following libraries have to be installed on your computer. Try to install graphviz by using: conda install python-graphviz\n",
        "\n",
        "I made use of some of the following links to get rid of errors:\n",
        "    \n",
        "https://github.com/quadram-institute-bioscience/albatradis/issues/7\n",
        "\n",
        "https://stackoverflow.com/questions/35064304/runtimeerror-make-sure-the-graphviz-executables-are-on-your-systems-path-aft\n",
        "\n",
        "https://github.com/xflr6/graphviz/issues/68\n",
        "\n",
        "https://github.com/RedaOps/ann-visualizer/issues/12\n",
        "\n",
        "\n",
        "On my mac computer I had to install some packages using brew to get rid of following error: \"ExecutableNotFound: failed to execute ['dot', '-Tsvg'], make sure the Graphviz executables are on your systems' PATH\"\n",
        "\n",
        "brew install graphviz"
      ]
    },
    {
      "cell_type": "code",
      "execution_count": 3,
      "id": "965de108",
      "metadata": {
        "id": "965de108"
      },
      "outputs": [],
      "source": [
        "from IPython.display import Image\n",
        "from graphviz import Digraph"
      ]
    },
    {
      "cell_type": "markdown",
      "id": "214d69eb",
      "metadata": {
        "id": "214d69eb"
      },
      "source": [
        "Details of Digraph package: https://h1ros.github.io/posts/introduction-to-graphviz-in-jupyter-notebook/"
      ]
    },
    {
      "cell_type": "markdown",
      "id": "7f9321f8",
      "metadata": {
        "id": "7f9321f8"
      },
      "source": [
        "***"
      ]
    },
    {
      "cell_type": "markdown",
      "id": "317d9bca",
      "metadata": {
        "id": "317d9bca"
      },
      "source": [
        "### Section 1: Testing Visualization Package"
      ]
    },
    {
      "cell_type": "markdown",
      "id": "cc820c0e",
      "metadata": {
        "id": "cc820c0e"
      },
      "source": [
        "Let us test this visualization Digraph Pacakge, it is only a tool for displaying tree or graph, this will come handy as it helps to visualize our solution."
      ]
    },
    {
      "cell_type": "code",
      "execution_count": 4,
      "id": "d8e6550f",
      "metadata": {
        "id": "d8e6550f"
      },
      "outputs": [],
      "source": [
        "dot = Digraph()\n",
        "\n",
        "dot.node(\"1\")\n",
        "dot.node(\"2\")\n",
        "dot.edges(['12'])"
      ]
    },
    {
      "cell_type": "code",
      "execution_count": 5,
      "id": "c86f2017",
      "metadata": {
        "colab": {
          "base_uri": "https://localhost:8080/",
          "height": 175
        },
        "id": "c86f2017",
        "outputId": "eeee293f-e300-4e96-8737-3e61ec593c77"
      },
      "outputs": [
        {
          "output_type": "execute_result",
          "data": {
            "text/plain": [
              "<graphviz.dot.Digraph at 0x7fdc0fde6d10>"
            ],
            "image/svg+xml": "<?xml version=\"1.0\" encoding=\"UTF-8\" standalone=\"no\"?>\n<!DOCTYPE svg PUBLIC \"-//W3C//DTD SVG 1.1//EN\"\n \"http://www.w3.org/Graphics/SVG/1.1/DTD/svg11.dtd\">\n<!-- Generated by graphviz version 2.40.1 (20161225.0304)\n -->\n<!-- Title: %3 Pages: 1 -->\n<svg width=\"62pt\" height=\"116pt\"\n viewBox=\"0.00 0.00 62.00 116.00\" xmlns=\"http://www.w3.org/2000/svg\" xmlns:xlink=\"http://www.w3.org/1999/xlink\">\n<g id=\"graph0\" class=\"graph\" transform=\"scale(1 1) rotate(0) translate(4 112)\">\n<title>%3</title>\n<polygon fill=\"#ffffff\" stroke=\"transparent\" points=\"-4,4 -4,-112 58,-112 58,4 -4,4\"/>\n<!-- 1 -->\n<g id=\"node1\" class=\"node\">\n<title>1</title>\n<ellipse fill=\"none\" stroke=\"#000000\" cx=\"27\" cy=\"-90\" rx=\"27\" ry=\"18\"/>\n<text text-anchor=\"middle\" x=\"27\" y=\"-86.3\" font-family=\"Times,serif\" font-size=\"14.00\" fill=\"#000000\">1</text>\n</g>\n<!-- 2 -->\n<g id=\"node2\" class=\"node\">\n<title>2</title>\n<ellipse fill=\"none\" stroke=\"#000000\" cx=\"27\" cy=\"-18\" rx=\"27\" ry=\"18\"/>\n<text text-anchor=\"middle\" x=\"27\" y=\"-14.3\" font-family=\"Times,serif\" font-size=\"14.00\" fill=\"#000000\">2</text>\n</g>\n<!-- 1&#45;&gt;2 -->\n<g id=\"edge1\" class=\"edge\">\n<title>1&#45;&gt;2</title>\n<path fill=\"none\" stroke=\"#000000\" d=\"M27,-71.8314C27,-64.131 27,-54.9743 27,-46.4166\"/>\n<polygon fill=\"#000000\" stroke=\"#000000\" points=\"30.5001,-46.4132 27,-36.4133 23.5001,-46.4133 30.5001,-46.4132\"/>\n</g>\n</g>\n</svg>\n"
          },
          "metadata": {},
          "execution_count": 5
        }
      ],
      "source": [
        "dot"
      ]
    },
    {
      "cell_type": "code",
      "execution_count": 6,
      "id": "1fc3ebf2",
      "metadata": {
        "colab": {
          "base_uri": "https://localhost:8080/",
          "height": 271
        },
        "id": "1fc3ebf2",
        "outputId": "b007169a-411c-4cdb-c9a1-0e9338fc4764"
      },
      "outputs": [
        {
          "output_type": "execute_result",
          "data": {
            "text/plain": [
              "<graphviz.dot.Digraph at 0x7fdc0fd923d0>"
            ],
            "image/svg+xml": "<?xml version=\"1.0\" encoding=\"UTF-8\" standalone=\"no\"?>\n<!DOCTYPE svg PUBLIC \"-//W3C//DTD SVG 1.1//EN\"\n \"http://www.w3.org/Graphics/SVG/1.1/DTD/svg11.dtd\">\n<!-- Generated by graphviz version 2.40.1 (20161225.0304)\n -->\n<!-- Title: %3 Pages: 1 -->\n<svg width=\"206pt\" height=\"188pt\"\n viewBox=\"0.00 0.00 206.00 188.00\" xmlns=\"http://www.w3.org/2000/svg\" xmlns:xlink=\"http://www.w3.org/1999/xlink\">\n<g id=\"graph0\" class=\"graph\" transform=\"scale(1 1) rotate(0) translate(4 184)\">\n<title>%3</title>\n<polygon fill=\"#ffffff\" stroke=\"transparent\" points=\"-4,4 -4,-184 202,-184 202,4 -4,4\"/>\n<!-- 1 -->\n<g id=\"node1\" class=\"node\">\n<title>1</title>\n<ellipse fill=\"none\" stroke=\"#000000\" cx=\"135\" cy=\"-162\" rx=\"27\" ry=\"18\"/>\n<text text-anchor=\"middle\" x=\"135\" y=\"-158.3\" font-family=\"Times,serif\" font-size=\"14.00\" fill=\"#000000\">1</text>\n</g>\n<!-- 3 -->\n<g id=\"node2\" class=\"node\">\n<title>3</title>\n<ellipse fill=\"none\" stroke=\"#000000\" cx=\"99\" cy=\"-90\" rx=\"27\" ry=\"18\"/>\n<text text-anchor=\"middle\" x=\"99\" y=\"-86.3\" font-family=\"Times,serif\" font-size=\"14.00\" fill=\"#000000\">3</text>\n</g>\n<!-- 1&#45;&gt;3 -->\n<g id=\"edge2\" class=\"edge\">\n<title>1&#45;&gt;3</title>\n<path fill=\"none\" stroke=\"#000000\" d=\"M126.2854,-144.5708C122.0403,-136.0807 116.8464,-125.6929 112.1337,-116.2674\"/>\n<polygon fill=\"#000000\" stroke=\"#000000\" points=\"115.237,-114.6477 107.6343,-107.2687 108.976,-117.7782 115.237,-114.6477\"/>\n</g>\n<!-- 2 -->\n<g id=\"node3\" class=\"node\">\n<title>2</title>\n<ellipse fill=\"none\" stroke=\"#000000\" cx=\"171\" cy=\"-90\" rx=\"27\" ry=\"18\"/>\n<text text-anchor=\"middle\" x=\"171\" y=\"-86.3\" font-family=\"Times,serif\" font-size=\"14.00\" fill=\"#000000\">2</text>\n</g>\n<!-- 1&#45;&gt;2 -->\n<g id=\"edge1\" class=\"edge\">\n<title>1&#45;&gt;2</title>\n<path fill=\"none\" stroke=\"#000000\" d=\"M138.1319,-143.8314C141.6902,-134.9918 146.9058,-124.2334 152.2242,-114.6648\"/>\n<polygon fill=\"#000000\" stroke=\"#000000\" points=\"155.2884,-116.3581 157.3041,-105.9568 149.242,-112.8309 155.2884,-116.3581\"/>\n</g>\n<!-- 5 -->\n<g id=\"node4\" class=\"node\">\n<title>5</title>\n<ellipse fill=\"none\" stroke=\"#000000\" cx=\"27\" cy=\"-18\" rx=\"27\" ry=\"18\"/>\n<text text-anchor=\"middle\" x=\"27\" y=\"-14.3\" font-family=\"Times,serif\" font-size=\"14.00\" fill=\"#000000\">5</text>\n</g>\n<!-- 1&#45;&gt;5 -->\n<g id=\"edge4\" class=\"edge\">\n<title>1&#45;&gt;5</title>\n<path fill=\"none\" stroke=\"#000000\" d=\"M113.9026,-150.4897C98.0499,-140.9184 76.7815,-125.9827 63,-108 48.835,-89.517 39.4651,-64.7199 33.845,-45.8347\"/>\n<polygon fill=\"#000000\" stroke=\"#000000\" points=\"37.1666,-44.7162 31.1019,-36.0288 30.4253,-46.602 37.1666,-44.7162\"/>\n</g>\n<!-- 3&#45;&gt;5 -->\n<g id=\"edge3\" class=\"edge\">\n<title>3&#45;&gt;5</title>\n<path fill=\"none\" stroke=\"#000000\" d=\"M83.7307,-74.7307C73.803,-64.803 60.6847,-51.6847 49.5637,-40.5637\"/>\n<polygon fill=\"#000000\" stroke=\"#000000\" points=\"51.7933,-37.8436 42.2473,-33.2473 46.8436,-42.7933 51.7933,-37.8436\"/>\n</g>\n<!-- 6 -->\n<g id=\"node5\" class=\"node\">\n<title>6</title>\n<ellipse fill=\"none\" stroke=\"#000000\" cx=\"171\" cy=\"-18\" rx=\"27\" ry=\"18\"/>\n<text text-anchor=\"middle\" x=\"171\" y=\"-14.3\" font-family=\"Times,serif\" font-size=\"14.00\" fill=\"#000000\">6</text>\n</g>\n<!-- 3&#45;&gt;6 -->\n<g id=\"edge7\" class=\"edge\">\n<title>3&#45;&gt;6</title>\n<path fill=\"none\" stroke=\"#000000\" d=\"M114.2693,-74.7307C124.197,-64.803 137.3153,-51.6847 148.4363,-40.5637\"/>\n<polygon fill=\"#000000\" stroke=\"#000000\" points=\"151.1564,-42.7933 155.7527,-33.2473 146.2067,-37.8436 151.1564,-42.7933\"/>\n</g>\n<!-- 7 -->\n<g id=\"node6\" class=\"node\">\n<title>7</title>\n<ellipse fill=\"none\" stroke=\"#000000\" cx=\"99\" cy=\"-18\" rx=\"27\" ry=\"18\"/>\n<text text-anchor=\"middle\" x=\"99\" y=\"-14.3\" font-family=\"Times,serif\" font-size=\"14.00\" fill=\"#000000\">7</text>\n</g>\n<!-- 3&#45;&gt;7 -->\n<g id=\"edge6\" class=\"edge\">\n<title>3&#45;&gt;7</title>\n<path fill=\"none\" stroke=\"#000000\" d=\"M99,-71.8314C99,-64.131 99,-54.9743 99,-46.4166\"/>\n<polygon fill=\"#000000\" stroke=\"#000000\" points=\"102.5001,-46.4132 99,-36.4133 95.5001,-46.4133 102.5001,-46.4132\"/>\n</g>\n<!-- 2&#45;&gt;1 -->\n<g id=\"edge5\" class=\"edge\">\n<title>2&#45;&gt;1</title>\n<path fill=\"none\" stroke=\"#000000\" d=\"M167.8821,-108.1338C164.2892,-117.0651 159.0004,-127.9618 153.6218,-137.6118\"/>\n<polygon fill=\"#000000\" stroke=\"#000000\" points=\"150.5221,-135.9789 148.4899,-146.3771 156.5629,-139.5158 150.5221,-135.9789\"/>\n</g>\n<!-- 2&#45;&gt;6 -->\n<g id=\"edge8\" class=\"edge\">\n<title>2&#45;&gt;6</title>\n<path fill=\"none\" stroke=\"#000000\" d=\"M171,-71.8314C171,-64.131 171,-54.9743 171,-46.4166\"/>\n<polygon fill=\"#000000\" stroke=\"#000000\" points=\"174.5001,-46.4132 171,-36.4133 167.5001,-46.4133 174.5001,-46.4132\"/>\n</g>\n</g>\n</svg>\n"
          },
          "metadata": {},
          "execution_count": 6
        }
      ],
      "source": [
        "# Create Digraph object\n",
        "dot = Digraph()\n",
        "\n",
        "# Add nodes\n",
        "dot.node('1')\n",
        "dot.node('3')\n",
        "dot.node('2')\n",
        "dot.node('5')\n",
        "dot.node('6')\n",
        "dot.node('7')\n",
        "\n",
        "# Add edges\n",
        "dot.edges(['12', '13', '35', '15', '21', '37', '36', '26'])\n",
        "\n",
        "# Visualize the graph\n",
        "dot"
      ]
    },
    {
      "cell_type": "markdown",
      "id": "9ef3277e",
      "metadata": {
        "id": "9ef3277e"
      },
      "source": [
        "***"
      ]
    },
    {
      "cell_type": "markdown",
      "id": "657f5146",
      "metadata": {
        "id": "657f5146"
      },
      "source": [
        "### Section 2: Creating a Binary Search Tree"
      ]
    },
    {
      "cell_type": "markdown",
      "id": "090921d3",
      "metadata": {
        "id": "090921d3"
      },
      "source": [
        "Let us start by creating a BST"
      ]
    },
    {
      "cell_type": "markdown",
      "id": "96b0985c",
      "metadata": {
        "id": "96b0985c"
      },
      "source": [
        "We will keep code simple in the sense that we will make a node class, and then build functions outside the class to implement various functionality."
      ]
    },
    {
      "cell_type": "code",
      "execution_count": 9,
      "id": "fc9711e4",
      "metadata": {
        "id": "fc9711e4"
      },
      "outputs": [],
      "source": [
        "class Node:\n",
        "    \n",
        "    def __init__(self, value):\n",
        "\n",
        "        self.val = value\n",
        "        self.right = None\n",
        "        self.left = None\n",
        "\n",
        "\n",
        "def buildBinaryTree(nodes):\n",
        "    \n",
        "    if len(nodes) == 0:\n",
        "        raise ValueError('list is empty')\n",
        "        \n",
        "    return binaryTree(nodes, 0, len(nodes) - 1)\n",
        "        \n",
        "def binaryTree(nodes, start, end):\n",
        "    \n",
        "    if start > end:\n",
        "        return\n",
        "    \n",
        "    middle = (start + end) // 2\n",
        "    root = Node(nodes[middle])\n",
        "    root.left = binaryTree(nodes, start, middle - 1)\n",
        "    root.right = binaryTree(nodes, middle + 1, end)\n",
        "    \n",
        "    return root"
      ]
    },
    {
      "cell_type": "code",
      "execution_count": 7,
      "id": "f6673a70",
      "metadata": {
        "id": "f6673a70"
      },
      "outputs": [],
      "source": [
        "test1 = [1, 2, 3, 4, 5, 6, 7, 8]\n",
        "test2 = [-1, 0, 9, 10]"
      ]
    },
    {
      "cell_type": "code",
      "execution_count": 10,
      "id": "61844dee",
      "metadata": {
        "id": "61844dee"
      },
      "outputs": [],
      "source": [
        "test1_tree = buildBinaryTree(test1)\n",
        "test2_tree = buildBinaryTree(test2)"
      ]
    },
    {
      "cell_type": "markdown",
      "id": "b04fe14f",
      "metadata": {
        "id": "b04fe14f"
      },
      "source": [
        "We will make the simpler assumption that all the keys are unique when we are inserting"
      ]
    },
    {
      "cell_type": "code",
      "execution_count": 11,
      "id": "508e47ad",
      "metadata": {
        "id": "508e47ad"
      },
      "outputs": [],
      "source": [
        "test3 = [0, 1, 2, 3, 3, 3, 5]\n",
        "test3 = np.unique(test3)"
      ]
    },
    {
      "cell_type": "code",
      "execution_count": 12,
      "id": "58d627f7",
      "metadata": {
        "id": "58d627f7"
      },
      "outputs": [],
      "source": [
        "test3_tree = buildBinaryTree(test3)"
      ]
    },
    {
      "cell_type": "markdown",
      "id": "a5662c0b",
      "metadata": {
        "id": "a5662c0b"
      },
      "source": [
        "Okay now that we have build three trees, let us visualize them. For visualization, we will have to write another function."
      ]
    },
    {
      "cell_type": "code",
      "execution_count": 13,
      "id": "a4524de8",
      "metadata": {
        "id": "a4524de8"
      },
      "outputs": [],
      "source": [
        "def visualize_tree(tree):\n",
        "    \n",
        "    def add_nodes_edges(tree, dot=None):\n",
        "        # Create Digraph object\n",
        "        if dot is None:\n",
        "            dot = Digraph()\n",
        "            dot.node(name=str(tree), label=str(tree.val))\n",
        "\n",
        "        # Add nodes\n",
        "        if tree.left:\n",
        "            dot.node(name=str(tree.left) ,label=str(tree.left.val))\n",
        "            dot.edge(str(tree), str(tree.left))\n",
        "            dot = add_nodes_edges(tree.left, dot=dot)\n",
        "            \n",
        "        if tree.right:\n",
        "            dot.node(name=str(tree.right) ,label=str(tree.right.val))\n",
        "            dot.edge(str(tree), str(tree.right))\n",
        "            dot = add_nodes_edges(tree.right, dot=dot)\n",
        "\n",
        "        return dot\n",
        "    \n",
        "    # Add nodes recursively and create a list of edges\n",
        "    dot = add_nodes_edges(tree)\n",
        "\n",
        "    # Visualize the graph\n",
        "    display(dot)\n",
        "    \n",
        "    return dot"
      ]
    },
    {
      "cell_type": "code",
      "execution_count": 14,
      "id": "55ca6fe6",
      "metadata": {
        "colab": {
          "base_uri": "https://localhost:8080/",
          "height": 367
        },
        "id": "55ca6fe6",
        "outputId": "d409d523-c011-4c22-cc18-a19307eae496"
      },
      "outputs": [
        {
          "output_type": "display_data",
          "data": {
            "text/plain": [
              "<graphviz.dot.Digraph at 0x7fdc0fd390d0>"
            ],
            "image/svg+xml": "<?xml version=\"1.0\" encoding=\"UTF-8\" standalone=\"no\"?>\n<!DOCTYPE svg PUBLIC \"-//W3C//DTD SVG 1.1//EN\"\n \"http://www.w3.org/Graphics/SVG/1.1/DTD/svg11.dtd\">\n<!-- Generated by graphviz version 2.40.1 (20161225.0304)\n -->\n<!-- Title: %3 Pages: 1 -->\n<svg width=\"278pt\" height=\"260pt\"\n viewBox=\"0.00 0.00 278.00 260.00\" xmlns=\"http://www.w3.org/2000/svg\" xmlns:xlink=\"http://www.w3.org/1999/xlink\">\n<g id=\"graph0\" class=\"graph\" transform=\"scale(1 1) rotate(0) translate(4 256)\">\n<title>%3</title>\n<polygon fill=\"#ffffff\" stroke=\"transparent\" points=\"-4,4 -4,-256 274,-256 274,4 -4,4\"/>\n<!-- __main__.Node object at 0x7fdc0fd15710 -->\n<g id=\"node1\" class=\"node\">\n<title>__main__.Node object at 0x7fdc0fd15710</title>\n<ellipse fill=\"none\" stroke=\"#000000\" cx=\"135\" cy=\"-234\" rx=\"27\" ry=\"18\"/>\n<text text-anchor=\"middle\" x=\"135\" y=\"-230.3\" font-family=\"Times,serif\" font-size=\"14.00\" fill=\"#000000\">4</text>\n</g>\n<!-- __main__.Node object at 0x7fdc0fd15910 -->\n<g id=\"node2\" class=\"node\">\n<title>__main__.Node object at 0x7fdc0fd15910</title>\n<ellipse fill=\"none\" stroke=\"#000000\" cx=\"99\" cy=\"-162\" rx=\"27\" ry=\"18\"/>\n<text text-anchor=\"middle\" x=\"99\" y=\"-158.3\" font-family=\"Times,serif\" font-size=\"14.00\" fill=\"#000000\">2</text>\n</g>\n<!-- __main__.Node object at 0x7fdc0fd15710&#45;&gt;__main__.Node object at 0x7fdc0fd15910 -->\n<g id=\"edge1\" class=\"edge\">\n<title>__main__.Node object at 0x7fdc0fd15710&#45;&gt;__main__.Node object at 0x7fdc0fd15910</title>\n<path fill=\"none\" stroke=\"#000000\" d=\"M126.2854,-216.5708C122.0403,-208.0807 116.8464,-197.6929 112.1337,-188.2674\"/>\n<polygon fill=\"#000000\" stroke=\"#000000\" points=\"115.237,-186.6477 107.6343,-179.2687 108.976,-189.7782 115.237,-186.6477\"/>\n</g>\n<!-- __main__.Node object at 0x7fdc0fd159d0 -->\n<g id=\"node5\" class=\"node\">\n<title>__main__.Node object at 0x7fdc0fd159d0</title>\n<ellipse fill=\"none\" stroke=\"#000000\" cx=\"171\" cy=\"-162\" rx=\"27\" ry=\"18\"/>\n<text text-anchor=\"middle\" x=\"171\" y=\"-158.3\" font-family=\"Times,serif\" font-size=\"14.00\" fill=\"#000000\">6</text>\n</g>\n<!-- __main__.Node object at 0x7fdc0fd15710&#45;&gt;__main__.Node object at 0x7fdc0fd159d0 -->\n<g id=\"edge4\" class=\"edge\">\n<title>__main__.Node object at 0x7fdc0fd15710&#45;&gt;__main__.Node object at 0x7fdc0fd159d0</title>\n<path fill=\"none\" stroke=\"#000000\" d=\"M143.7146,-216.5708C147.9597,-208.0807 153.1536,-197.6929 157.8663,-188.2674\"/>\n<polygon fill=\"#000000\" stroke=\"#000000\" points=\"161.024,-189.7782 162.3657,-179.2687 154.763,-186.6477 161.024,-189.7782\"/>\n</g>\n<!-- __main__.Node object at 0x7fdc0fd15950 -->\n<g id=\"node3\" class=\"node\">\n<title>__main__.Node object at 0x7fdc0fd15950</title>\n<ellipse fill=\"none\" stroke=\"#000000\" cx=\"27\" cy=\"-90\" rx=\"27\" ry=\"18\"/>\n<text text-anchor=\"middle\" x=\"27\" y=\"-86.3\" font-family=\"Times,serif\" font-size=\"14.00\" fill=\"#000000\">1</text>\n</g>\n<!-- __main__.Node object at 0x7fdc0fd15910&#45;&gt;__main__.Node object at 0x7fdc0fd15950 -->\n<g id=\"edge2\" class=\"edge\">\n<title>__main__.Node object at 0x7fdc0fd15910&#45;&gt;__main__.Node object at 0x7fdc0fd15950</title>\n<path fill=\"none\" stroke=\"#000000\" d=\"M83.7307,-146.7307C73.803,-136.803 60.6847,-123.6847 49.5637,-112.5637\"/>\n<polygon fill=\"#000000\" stroke=\"#000000\" points=\"51.7933,-109.8436 42.2473,-105.2473 46.8436,-114.7933 51.7933,-109.8436\"/>\n</g>\n<!-- __main__.Node object at 0x7fdc0fd15a10 -->\n<g id=\"node4\" class=\"node\">\n<title>__main__.Node object at 0x7fdc0fd15a10</title>\n<ellipse fill=\"none\" stroke=\"#000000\" cx=\"99\" cy=\"-90\" rx=\"27\" ry=\"18\"/>\n<text text-anchor=\"middle\" x=\"99\" y=\"-86.3\" font-family=\"Times,serif\" font-size=\"14.00\" fill=\"#000000\">3</text>\n</g>\n<!-- __main__.Node object at 0x7fdc0fd15910&#45;&gt;__main__.Node object at 0x7fdc0fd15a10 -->\n<g id=\"edge3\" class=\"edge\">\n<title>__main__.Node object at 0x7fdc0fd15910&#45;&gt;__main__.Node object at 0x7fdc0fd15a10</title>\n<path fill=\"none\" stroke=\"#000000\" d=\"M99,-143.8314C99,-136.131 99,-126.9743 99,-118.4166\"/>\n<polygon fill=\"#000000\" stroke=\"#000000\" points=\"102.5001,-118.4132 99,-108.4133 95.5001,-118.4133 102.5001,-118.4132\"/>\n</g>\n<!-- __main__.Node object at 0x7fdc0fd15a50 -->\n<g id=\"node6\" class=\"node\">\n<title>__main__.Node object at 0x7fdc0fd15a50</title>\n<ellipse fill=\"none\" stroke=\"#000000\" cx=\"171\" cy=\"-90\" rx=\"27\" ry=\"18\"/>\n<text text-anchor=\"middle\" x=\"171\" y=\"-86.3\" font-family=\"Times,serif\" font-size=\"14.00\" fill=\"#000000\">5</text>\n</g>\n<!-- __main__.Node object at 0x7fdc0fd159d0&#45;&gt;__main__.Node object at 0x7fdc0fd15a50 -->\n<g id=\"edge5\" class=\"edge\">\n<title>__main__.Node object at 0x7fdc0fd159d0&#45;&gt;__main__.Node object at 0x7fdc0fd15a50</title>\n<path fill=\"none\" stroke=\"#000000\" d=\"M171,-143.8314C171,-136.131 171,-126.9743 171,-118.4166\"/>\n<polygon fill=\"#000000\" stroke=\"#000000\" points=\"174.5001,-118.4132 171,-108.4133 167.5001,-118.4133 174.5001,-118.4132\"/>\n</g>\n<!-- __main__.Node object at 0x7fdc0fd15a90 -->\n<g id=\"node7\" class=\"node\">\n<title>__main__.Node object at 0x7fdc0fd15a90</title>\n<ellipse fill=\"none\" stroke=\"#000000\" cx=\"243\" cy=\"-90\" rx=\"27\" ry=\"18\"/>\n<text text-anchor=\"middle\" x=\"243\" y=\"-86.3\" font-family=\"Times,serif\" font-size=\"14.00\" fill=\"#000000\">7</text>\n</g>\n<!-- __main__.Node object at 0x7fdc0fd159d0&#45;&gt;__main__.Node object at 0x7fdc0fd15a90 -->\n<g id=\"edge6\" class=\"edge\">\n<title>__main__.Node object at 0x7fdc0fd159d0&#45;&gt;__main__.Node object at 0x7fdc0fd15a90</title>\n<path fill=\"none\" stroke=\"#000000\" d=\"M186.2693,-146.7307C196.197,-136.803 209.3153,-123.6847 220.4363,-112.5637\"/>\n<polygon fill=\"#000000\" stroke=\"#000000\" points=\"223.1564,-114.7933 227.7527,-105.2473 218.2067,-109.8436 223.1564,-114.7933\"/>\n</g>\n<!-- __main__.Node object at 0x7fdc0fd15ad0 -->\n<g id=\"node8\" class=\"node\">\n<title>__main__.Node object at 0x7fdc0fd15ad0</title>\n<ellipse fill=\"none\" stroke=\"#000000\" cx=\"243\" cy=\"-18\" rx=\"27\" ry=\"18\"/>\n<text text-anchor=\"middle\" x=\"243\" y=\"-14.3\" font-family=\"Times,serif\" font-size=\"14.00\" fill=\"#000000\">8</text>\n</g>\n<!-- __main__.Node object at 0x7fdc0fd15a90&#45;&gt;__main__.Node object at 0x7fdc0fd15ad0 -->\n<g id=\"edge7\" class=\"edge\">\n<title>__main__.Node object at 0x7fdc0fd15a90&#45;&gt;__main__.Node object at 0x7fdc0fd15ad0</title>\n<path fill=\"none\" stroke=\"#000000\" d=\"M243,-71.8314C243,-64.131 243,-54.9743 243,-46.4166\"/>\n<polygon fill=\"#000000\" stroke=\"#000000\" points=\"246.5001,-46.4132 243,-36.4133 239.5001,-46.4133 246.5001,-46.4132\"/>\n</g>\n</g>\n</svg>\n"
          },
          "metadata": {}
        }
      ],
      "source": [
        "dot = visualize_tree(test1_tree)"
      ]
    },
    {
      "cell_type": "code",
      "execution_count": 15,
      "id": "9d55d1a9",
      "metadata": {
        "colab": {
          "base_uri": "https://localhost:8080/",
          "height": 271
        },
        "id": "9d55d1a9",
        "outputId": "2b93137a-effe-4fc8-984c-edeae911b4c8"
      },
      "outputs": [
        {
          "output_type": "display_data",
          "data": {
            "text/plain": [
              "<graphviz.dot.Digraph at 0x7fdc0fd2dc50>"
            ],
            "image/svg+xml": "<?xml version=\"1.0\" encoding=\"UTF-8\" standalone=\"no\"?>\n<!DOCTYPE svg PUBLIC \"-//W3C//DTD SVG 1.1//EN\"\n \"http://www.w3.org/Graphics/SVG/1.1/DTD/svg11.dtd\">\n<!-- Generated by graphviz version 2.40.1 (20161225.0304)\n -->\n<!-- Title: %3 Pages: 1 -->\n<svg width=\"134pt\" height=\"188pt\"\n viewBox=\"0.00 0.00 134.00 188.00\" xmlns=\"http://www.w3.org/2000/svg\" xmlns:xlink=\"http://www.w3.org/1999/xlink\">\n<g id=\"graph0\" class=\"graph\" transform=\"scale(1 1) rotate(0) translate(4 184)\">\n<title>%3</title>\n<polygon fill=\"#ffffff\" stroke=\"transparent\" points=\"-4,4 -4,-184 130,-184 130,4 -4,4\"/>\n<!-- __main__.Node object at 0x7fdc0fd158d0 -->\n<g id=\"node1\" class=\"node\">\n<title>__main__.Node object at 0x7fdc0fd158d0</title>\n<ellipse fill=\"none\" stroke=\"#000000\" cx=\"63\" cy=\"-162\" rx=\"27\" ry=\"18\"/>\n<text text-anchor=\"middle\" x=\"63\" y=\"-158.3\" font-family=\"Times,serif\" font-size=\"14.00\" fill=\"#000000\">0</text>\n</g>\n<!-- __main__.Node object at 0x7fdc0fd15b90 -->\n<g id=\"node2\" class=\"node\">\n<title>__main__.Node object at 0x7fdc0fd15b90</title>\n<ellipse fill=\"none\" stroke=\"#000000\" cx=\"27\" cy=\"-90\" rx=\"27\" ry=\"18\"/>\n<text text-anchor=\"middle\" x=\"27\" y=\"-86.3\" font-family=\"Times,serif\" font-size=\"14.00\" fill=\"#000000\">&#45;1</text>\n</g>\n<!-- __main__.Node object at 0x7fdc0fd158d0&#45;&gt;__main__.Node object at 0x7fdc0fd15b90 -->\n<g id=\"edge1\" class=\"edge\">\n<title>__main__.Node object at 0x7fdc0fd158d0&#45;&gt;__main__.Node object at 0x7fdc0fd15b90</title>\n<path fill=\"none\" stroke=\"#000000\" d=\"M54.2854,-144.5708C50.0403,-136.0807 44.8464,-125.6929 40.1337,-116.2674\"/>\n<polygon fill=\"#000000\" stroke=\"#000000\" points=\"43.237,-114.6477 35.6343,-107.2687 36.976,-117.7782 43.237,-114.6477\"/>\n</g>\n<!-- __main__.Node object at 0x7fdc0fd15b10 -->\n<g id=\"node3\" class=\"node\">\n<title>__main__.Node object at 0x7fdc0fd15b10</title>\n<ellipse fill=\"none\" stroke=\"#000000\" cx=\"99\" cy=\"-90\" rx=\"27\" ry=\"18\"/>\n<text text-anchor=\"middle\" x=\"99\" y=\"-86.3\" font-family=\"Times,serif\" font-size=\"14.00\" fill=\"#000000\">9</text>\n</g>\n<!-- __main__.Node object at 0x7fdc0fd158d0&#45;&gt;__main__.Node object at 0x7fdc0fd15b10 -->\n<g id=\"edge2\" class=\"edge\">\n<title>__main__.Node object at 0x7fdc0fd158d0&#45;&gt;__main__.Node object at 0x7fdc0fd15b10</title>\n<path fill=\"none\" stroke=\"#000000\" d=\"M71.7146,-144.5708C75.9597,-136.0807 81.1536,-125.6929 85.8663,-116.2674\"/>\n<polygon fill=\"#000000\" stroke=\"#000000\" points=\"89.024,-117.7782 90.3657,-107.2687 82.763,-114.6477 89.024,-117.7782\"/>\n</g>\n<!-- __main__.Node object at 0x7fdc0fd15bd0 -->\n<g id=\"node4\" class=\"node\">\n<title>__main__.Node object at 0x7fdc0fd15bd0</title>\n<ellipse fill=\"none\" stroke=\"#000000\" cx=\"99\" cy=\"-18\" rx=\"27\" ry=\"18\"/>\n<text text-anchor=\"middle\" x=\"99\" y=\"-14.3\" font-family=\"Times,serif\" font-size=\"14.00\" fill=\"#000000\">10</text>\n</g>\n<!-- __main__.Node object at 0x7fdc0fd15b10&#45;&gt;__main__.Node object at 0x7fdc0fd15bd0 -->\n<g id=\"edge3\" class=\"edge\">\n<title>__main__.Node object at 0x7fdc0fd15b10&#45;&gt;__main__.Node object at 0x7fdc0fd15bd0</title>\n<path fill=\"none\" stroke=\"#000000\" d=\"M99,-71.8314C99,-64.131 99,-54.9743 99,-46.4166\"/>\n<polygon fill=\"#000000\" stroke=\"#000000\" points=\"102.5001,-46.4132 99,-36.4133 95.5001,-46.4133 102.5001,-46.4132\"/>\n</g>\n</g>\n</svg>\n"
          },
          "metadata": {}
        }
      ],
      "source": [
        "dot = visualize_tree(test2_tree)"
      ]
    },
    {
      "cell_type": "code",
      "execution_count": 16,
      "id": "5596016b",
      "metadata": {
        "colab": {
          "base_uri": "https://localhost:8080/",
          "height": 271
        },
        "id": "5596016b",
        "outputId": "209aacb7-bece-4176-99e4-da4c6170680d"
      },
      "outputs": [
        {
          "output_type": "display_data",
          "data": {
            "text/plain": [
              "<graphviz.dot.Digraph at 0x7fdc0fd2df50>"
            ],
            "image/svg+xml": "<?xml version=\"1.0\" encoding=\"UTF-8\" standalone=\"no\"?>\n<!DOCTYPE svg PUBLIC \"-//W3C//DTD SVG 1.1//EN\"\n \"http://www.w3.org/Graphics/SVG/1.1/DTD/svg11.dtd\">\n<!-- Generated by graphviz version 2.40.1 (20161225.0304)\n -->\n<!-- Title: %3 Pages: 1 -->\n<svg width=\"134pt\" height=\"188pt\"\n viewBox=\"0.00 0.00 134.00 188.00\" xmlns=\"http://www.w3.org/2000/svg\" xmlns:xlink=\"http://www.w3.org/1999/xlink\">\n<g id=\"graph0\" class=\"graph\" transform=\"scale(1 1) rotate(0) translate(4 184)\">\n<title>%3</title>\n<polygon fill=\"#ffffff\" stroke=\"transparent\" points=\"-4,4 -4,-184 130,-184 130,4 -4,4\"/>\n<!-- __main__.Node object at 0x7fdc0fd39790 -->\n<g id=\"node1\" class=\"node\">\n<title>__main__.Node object at 0x7fdc0fd39790</title>\n<ellipse fill=\"none\" stroke=\"#000000\" cx=\"63\" cy=\"-162\" rx=\"27\" ry=\"18\"/>\n<text text-anchor=\"middle\" x=\"63\" y=\"-158.3\" font-family=\"Times,serif\" font-size=\"14.00\" fill=\"#000000\">2</text>\n</g>\n<!-- __main__.Node object at 0x7fdc0fd39c10 -->\n<g id=\"node2\" class=\"node\">\n<title>__main__.Node object at 0x7fdc0fd39c10</title>\n<ellipse fill=\"none\" stroke=\"#000000\" cx=\"27\" cy=\"-90\" rx=\"27\" ry=\"18\"/>\n<text text-anchor=\"middle\" x=\"27\" y=\"-86.3\" font-family=\"Times,serif\" font-size=\"14.00\" fill=\"#000000\">0</text>\n</g>\n<!-- __main__.Node object at 0x7fdc0fd39790&#45;&gt;__main__.Node object at 0x7fdc0fd39c10 -->\n<g id=\"edge1\" class=\"edge\">\n<title>__main__.Node object at 0x7fdc0fd39790&#45;&gt;__main__.Node object at 0x7fdc0fd39c10</title>\n<path fill=\"none\" stroke=\"#000000\" d=\"M54.2854,-144.5708C50.0403,-136.0807 44.8464,-125.6929 40.1337,-116.2674\"/>\n<polygon fill=\"#000000\" stroke=\"#000000\" points=\"43.237,-114.6477 35.6343,-107.2687 36.976,-117.7782 43.237,-114.6477\"/>\n</g>\n<!-- __main__.Node object at 0x7fdc0fd39d50 -->\n<g id=\"node4\" class=\"node\">\n<title>__main__.Node object at 0x7fdc0fd39d50</title>\n<ellipse fill=\"none\" stroke=\"#000000\" cx=\"99\" cy=\"-90\" rx=\"27\" ry=\"18\"/>\n<text text-anchor=\"middle\" x=\"99\" y=\"-86.3\" font-family=\"Times,serif\" font-size=\"14.00\" fill=\"#000000\">3</text>\n</g>\n<!-- __main__.Node object at 0x7fdc0fd39790&#45;&gt;__main__.Node object at 0x7fdc0fd39d50 -->\n<g id=\"edge3\" class=\"edge\">\n<title>__main__.Node object at 0x7fdc0fd39790&#45;&gt;__main__.Node object at 0x7fdc0fd39d50</title>\n<path fill=\"none\" stroke=\"#000000\" d=\"M71.7146,-144.5708C75.9597,-136.0807 81.1536,-125.6929 85.8663,-116.2674\"/>\n<polygon fill=\"#000000\" stroke=\"#000000\" points=\"89.024,-117.7782 90.3657,-107.2687 82.763,-114.6477 89.024,-117.7782\"/>\n</g>\n<!-- __main__.Node object at 0x7fdc0fd39d10 -->\n<g id=\"node3\" class=\"node\">\n<title>__main__.Node object at 0x7fdc0fd39d10</title>\n<ellipse fill=\"none\" stroke=\"#000000\" cx=\"27\" cy=\"-18\" rx=\"27\" ry=\"18\"/>\n<text text-anchor=\"middle\" x=\"27\" y=\"-14.3\" font-family=\"Times,serif\" font-size=\"14.00\" fill=\"#000000\">1</text>\n</g>\n<!-- __main__.Node object at 0x7fdc0fd39c10&#45;&gt;__main__.Node object at 0x7fdc0fd39d10 -->\n<g id=\"edge2\" class=\"edge\">\n<title>__main__.Node object at 0x7fdc0fd39c10&#45;&gt;__main__.Node object at 0x7fdc0fd39d10</title>\n<path fill=\"none\" stroke=\"#000000\" d=\"M27,-71.8314C27,-64.131 27,-54.9743 27,-46.4166\"/>\n<polygon fill=\"#000000\" stroke=\"#000000\" points=\"30.5001,-46.4132 27,-36.4133 23.5001,-46.4133 30.5001,-46.4132\"/>\n</g>\n<!-- __main__.Node object at 0x7fdc0fd39d90 -->\n<g id=\"node5\" class=\"node\">\n<title>__main__.Node object at 0x7fdc0fd39d90</title>\n<ellipse fill=\"none\" stroke=\"#000000\" cx=\"99\" cy=\"-18\" rx=\"27\" ry=\"18\"/>\n<text text-anchor=\"middle\" x=\"99\" y=\"-14.3\" font-family=\"Times,serif\" font-size=\"14.00\" fill=\"#000000\">5</text>\n</g>\n<!-- __main__.Node object at 0x7fdc0fd39d50&#45;&gt;__main__.Node object at 0x7fdc0fd39d90 -->\n<g id=\"edge4\" class=\"edge\">\n<title>__main__.Node object at 0x7fdc0fd39d50&#45;&gt;__main__.Node object at 0x7fdc0fd39d90</title>\n<path fill=\"none\" stroke=\"#000000\" d=\"M99,-71.8314C99,-64.131 99,-54.9743 99,-46.4166\"/>\n<polygon fill=\"#000000\" stroke=\"#000000\" points=\"102.5001,-46.4132 99,-36.4133 95.5001,-46.4133 102.5001,-46.4132\"/>\n</g>\n</g>\n</svg>\n"
          },
          "metadata": {}
        }
      ],
      "source": [
        "dot = visualize_tree(test3_tree)"
      ]
    },
    {
      "cell_type": "markdown",
      "id": "679135ba",
      "metadata": {
        "id": "679135ba"
      },
      "source": [
        "***"
      ]
    },
    {
      "cell_type": "markdown",
      "id": "e7b3ec46",
      "metadata": {
        "id": "e7b3ec46"
      },
      "source": [
        "### Section 3: Implementing Search, Insert and Delete Operations"
      ]
    },
    {
      "cell_type": "markdown",
      "id": "08f4c3ee",
      "metadata": {
        "id": "08f4c3ee"
      },
      "source": [
        "Let us implement IDS operations on the BST we have built"
      ]
    },
    {
      "cell_type": "markdown",
      "id": "b07d8136",
      "metadata": {
        "id": "b07d8136"
      },
      "source": [
        "Search operation should look like:"
      ]
    },
    {
      "cell_type": "code",
      "execution_count": 17,
      "id": "e4d264b9",
      "metadata": {
        "id": "e4d264b9"
      },
      "outputs": [],
      "source": [
        "def search(nodes, val):\n",
        "\n",
        "    if val == nodes.val:\n",
        "        return True\n",
        "\n",
        "    if val < nodes.val:\n",
        "        \n",
        "        if nodes.left == None:\n",
        "            return False\n",
        "\n",
        "        return search(nodes.left, val)\n",
        "\n",
        "    elif val >= nodes.val:\n",
        "        \n",
        "        if nodes.right == None:\n",
        "            return False\n",
        "\n",
        "        return search(nodes.right, val)"
      ]
    },
    {
      "cell_type": "code",
      "execution_count": 18,
      "id": "facb622b",
      "metadata": {
        "colab": {
          "base_uri": "https://localhost:8080/"
        },
        "id": "facb622b",
        "outputId": "ade3de94-0081-4bf7-c4e2-c2b09ea9faa1"
      },
      "outputs": [
        {
          "output_type": "execute_result",
          "data": {
            "text/plain": [
              "True"
            ]
          },
          "metadata": {},
          "execution_count": 18
        }
      ],
      "source": [
        "search(test3_tree, 3)"
      ]
    },
    {
      "cell_type": "code",
      "execution_count": 19,
      "id": "48de85cf",
      "metadata": {
        "colab": {
          "base_uri": "https://localhost:8080/"
        },
        "id": "48de85cf",
        "outputId": "298a5b99-1f41-4d3e-f0cd-989015830feb"
      },
      "outputs": [
        {
          "output_type": "execute_result",
          "data": {
            "text/plain": [
              "False"
            ]
          },
          "metadata": {},
          "execution_count": 19
        }
      ],
      "source": [
        "search(test1_tree, 18)"
      ]
    },
    {
      "cell_type": "markdown",
      "id": "5e11e2e0",
      "metadata": {
        "id": "5e11e2e0"
      },
      "source": [
        "Let us write insert function now:"
      ]
    },
    {
      "cell_type": "code",
      "execution_count": 20,
      "id": "8fca8d65",
      "metadata": {
        "id": "8fca8d65"
      },
      "outputs": [],
      "source": [
        "def insert(nodes, val):\n",
        "\n",
        "    # Empty Tree\n",
        "    if nodes == None:\n",
        "        nodes = Node(val)\n",
        "        return\n",
        "\n",
        "    # Value already exist on the node\n",
        "    if nodes.val == val:\n",
        "        return\n",
        "\n",
        "    if val < nodes.val:\n",
        "\n",
        "        if nodes.left == None: \n",
        "            nodes.left = Node(val)\n",
        "            return\n",
        "        else:\n",
        "            insert(nodes.left, val)\n",
        "            return\n",
        "\n",
        "    elif val >= nodes.val:\n",
        "        \n",
        "        if nodes.right == None:\n",
        "            nodes.right = Node(val)\n",
        "            return\n",
        "        else:\n",
        "            insert(nodes.right, val)\n",
        "            return"
      ]
    },
    {
      "cell_type": "code",
      "execution_count": 21,
      "id": "8df84f57",
      "metadata": {
        "colab": {
          "base_uri": "https://localhost:8080/",
          "height": 271
        },
        "id": "8df84f57",
        "outputId": "e617aa27-52b3-43ab-8d10-e24f0b61a959"
      },
      "outputs": [
        {
          "output_type": "display_data",
          "data": {
            "text/plain": [
              "<graphviz.dot.Digraph at 0x7fdc0fd921d0>"
            ],
            "image/svg+xml": "<?xml version=\"1.0\" encoding=\"UTF-8\" standalone=\"no\"?>\n<!DOCTYPE svg PUBLIC \"-//W3C//DTD SVG 1.1//EN\"\n \"http://www.w3.org/Graphics/SVG/1.1/DTD/svg11.dtd\">\n<!-- Generated by graphviz version 2.40.1 (20161225.0304)\n -->\n<!-- Title: %3 Pages: 1 -->\n<svg width=\"134pt\" height=\"188pt\"\n viewBox=\"0.00 0.00 134.00 188.00\" xmlns=\"http://www.w3.org/2000/svg\" xmlns:xlink=\"http://www.w3.org/1999/xlink\">\n<g id=\"graph0\" class=\"graph\" transform=\"scale(1 1) rotate(0) translate(4 184)\">\n<title>%3</title>\n<polygon fill=\"#ffffff\" stroke=\"transparent\" points=\"-4,4 -4,-184 130,-184 130,4 -4,4\"/>\n<!-- __main__.Node object at 0x7fdc0fdff650 -->\n<g id=\"node1\" class=\"node\">\n<title>__main__.Node object at 0x7fdc0fdff650</title>\n<ellipse fill=\"none\" stroke=\"#000000\" cx=\"63\" cy=\"-162\" rx=\"27\" ry=\"18\"/>\n<text text-anchor=\"middle\" x=\"63\" y=\"-158.3\" font-family=\"Times,serif\" font-size=\"14.00\" fill=\"#000000\">2</text>\n</g>\n<!-- __main__.Node object at 0x7fdc0fd92e10 -->\n<g id=\"node2\" class=\"node\">\n<title>__main__.Node object at 0x7fdc0fd92e10</title>\n<ellipse fill=\"none\" stroke=\"#000000\" cx=\"27\" cy=\"-90\" rx=\"27\" ry=\"18\"/>\n<text text-anchor=\"middle\" x=\"27\" y=\"-86.3\" font-family=\"Times,serif\" font-size=\"14.00\" fill=\"#000000\">0</text>\n</g>\n<!-- __main__.Node object at 0x7fdc0fdff650&#45;&gt;__main__.Node object at 0x7fdc0fd92e10 -->\n<g id=\"edge1\" class=\"edge\">\n<title>__main__.Node object at 0x7fdc0fdff650&#45;&gt;__main__.Node object at 0x7fdc0fd92e10</title>\n<path fill=\"none\" stroke=\"#000000\" d=\"M54.2854,-144.5708C50.0403,-136.0807 44.8464,-125.6929 40.1337,-116.2674\"/>\n<polygon fill=\"#000000\" stroke=\"#000000\" points=\"43.237,-114.6477 35.6343,-107.2687 36.976,-117.7782 43.237,-114.6477\"/>\n</g>\n<!-- __main__.Node object at 0x7fdc0fd92150 -->\n<g id=\"node4\" class=\"node\">\n<title>__main__.Node object at 0x7fdc0fd92150</title>\n<ellipse fill=\"none\" stroke=\"#000000\" cx=\"99\" cy=\"-90\" rx=\"27\" ry=\"18\"/>\n<text text-anchor=\"middle\" x=\"99\" y=\"-86.3\" font-family=\"Times,serif\" font-size=\"14.00\" fill=\"#000000\">3</text>\n</g>\n<!-- __main__.Node object at 0x7fdc0fdff650&#45;&gt;__main__.Node object at 0x7fdc0fd92150 -->\n<g id=\"edge3\" class=\"edge\">\n<title>__main__.Node object at 0x7fdc0fdff650&#45;&gt;__main__.Node object at 0x7fdc0fd92150</title>\n<path fill=\"none\" stroke=\"#000000\" d=\"M71.7146,-144.5708C75.9597,-136.0807 81.1536,-125.6929 85.8663,-116.2674\"/>\n<polygon fill=\"#000000\" stroke=\"#000000\" points=\"89.024,-117.7782 90.3657,-107.2687 82.763,-114.6477 89.024,-117.7782\"/>\n</g>\n<!-- __main__.Node object at 0x7fdc0fd92850 -->\n<g id=\"node3\" class=\"node\">\n<title>__main__.Node object at 0x7fdc0fd92850</title>\n<ellipse fill=\"none\" stroke=\"#000000\" cx=\"27\" cy=\"-18\" rx=\"27\" ry=\"18\"/>\n<text text-anchor=\"middle\" x=\"27\" y=\"-14.3\" font-family=\"Times,serif\" font-size=\"14.00\" fill=\"#000000\">1</text>\n</g>\n<!-- __main__.Node object at 0x7fdc0fd92e10&#45;&gt;__main__.Node object at 0x7fdc0fd92850 -->\n<g id=\"edge2\" class=\"edge\">\n<title>__main__.Node object at 0x7fdc0fd92e10&#45;&gt;__main__.Node object at 0x7fdc0fd92850</title>\n<path fill=\"none\" stroke=\"#000000\" d=\"M27,-71.8314C27,-64.131 27,-54.9743 27,-46.4166\"/>\n<polygon fill=\"#000000\" stroke=\"#000000\" points=\"30.5001,-46.4132 27,-36.4133 23.5001,-46.4133 30.5001,-46.4132\"/>\n</g>\n<!-- __main__.Node object at 0x7fdc0fd92f90 -->\n<g id=\"node5\" class=\"node\">\n<title>__main__.Node object at 0x7fdc0fd92f90</title>\n<ellipse fill=\"none\" stroke=\"#000000\" cx=\"99\" cy=\"-18\" rx=\"27\" ry=\"18\"/>\n<text text-anchor=\"middle\" x=\"99\" y=\"-14.3\" font-family=\"Times,serif\" font-size=\"14.00\" fill=\"#000000\">5</text>\n</g>\n<!-- __main__.Node object at 0x7fdc0fd92150&#45;&gt;__main__.Node object at 0x7fdc0fd92f90 -->\n<g id=\"edge4\" class=\"edge\">\n<title>__main__.Node object at 0x7fdc0fd92150&#45;&gt;__main__.Node object at 0x7fdc0fd92f90</title>\n<path fill=\"none\" stroke=\"#000000\" d=\"M99,-71.8314C99,-64.131 99,-54.9743 99,-46.4166\"/>\n<polygon fill=\"#000000\" stroke=\"#000000\" points=\"102.5001,-46.4132 99,-36.4133 95.5001,-46.4133 102.5001,-46.4132\"/>\n</g>\n</g>\n</svg>\n"
          },
          "metadata": {}
        }
      ],
      "source": [
        "test3 = [0, 1, 2, 3, 3, 3, 5]\n",
        "test3 = np.unique(test3)\n",
        "\n",
        "test3_tree = buildBinaryTree(test3)\n",
        "dot = visualize_tree(test3_tree)"
      ]
    },
    {
      "cell_type": "code",
      "execution_count": 22,
      "id": "c483c78b",
      "metadata": {
        "colab": {
          "base_uri": "https://localhost:8080/",
          "height": 271
        },
        "id": "c483c78b",
        "outputId": "f53d11b7-5cae-42ff-e2d0-266b97b495d5"
      },
      "outputs": [
        {
          "output_type": "display_data",
          "data": {
            "text/plain": [
              "<graphviz.dot.Digraph at 0x7fdc0fd39890>"
            ],
            "image/svg+xml": "<?xml version=\"1.0\" encoding=\"UTF-8\" standalone=\"no\"?>\n<!DOCTYPE svg PUBLIC \"-//W3C//DTD SVG 1.1//EN\"\n \"http://www.w3.org/Graphics/SVG/1.1/DTD/svg11.dtd\">\n<!-- Generated by graphviz version 2.40.1 (20161225.0304)\n -->\n<!-- Title: %3 Pages: 1 -->\n<svg width=\"206pt\" height=\"188pt\"\n viewBox=\"0.00 0.00 206.00 188.00\" xmlns=\"http://www.w3.org/2000/svg\" xmlns:xlink=\"http://www.w3.org/1999/xlink\">\n<g id=\"graph0\" class=\"graph\" transform=\"scale(1 1) rotate(0) translate(4 184)\">\n<title>%3</title>\n<polygon fill=\"#ffffff\" stroke=\"transparent\" points=\"-4,4 -4,-184 202,-184 202,4 -4,4\"/>\n<!-- __main__.Node object at 0x7fdc0fdff650 -->\n<g id=\"node1\" class=\"node\">\n<title>__main__.Node object at 0x7fdc0fdff650</title>\n<ellipse fill=\"none\" stroke=\"#000000\" cx=\"135\" cy=\"-162\" rx=\"27\" ry=\"18\"/>\n<text text-anchor=\"middle\" x=\"135\" y=\"-158.3\" font-family=\"Times,serif\" font-size=\"14.00\" fill=\"#000000\">2</text>\n</g>\n<!-- __main__.Node object at 0x7fdc0fd92e10 -->\n<g id=\"node2\" class=\"node\">\n<title>__main__.Node object at 0x7fdc0fd92e10</title>\n<ellipse fill=\"none\" stroke=\"#000000\" cx=\"99\" cy=\"-90\" rx=\"27\" ry=\"18\"/>\n<text text-anchor=\"middle\" x=\"99\" y=\"-86.3\" font-family=\"Times,serif\" font-size=\"14.00\" fill=\"#000000\">0</text>\n</g>\n<!-- __main__.Node object at 0x7fdc0fdff650&#45;&gt;__main__.Node object at 0x7fdc0fd92e10 -->\n<g id=\"edge1\" class=\"edge\">\n<title>__main__.Node object at 0x7fdc0fdff650&#45;&gt;__main__.Node object at 0x7fdc0fd92e10</title>\n<path fill=\"none\" stroke=\"#000000\" d=\"M126.2854,-144.5708C122.0403,-136.0807 116.8464,-125.6929 112.1337,-116.2674\"/>\n<polygon fill=\"#000000\" stroke=\"#000000\" points=\"115.237,-114.6477 107.6343,-107.2687 108.976,-117.7782 115.237,-114.6477\"/>\n</g>\n<!-- __main__.Node object at 0x7fdc0fd92150 -->\n<g id=\"node5\" class=\"node\">\n<title>__main__.Node object at 0x7fdc0fd92150</title>\n<ellipse fill=\"none\" stroke=\"#000000\" cx=\"171\" cy=\"-90\" rx=\"27\" ry=\"18\"/>\n<text text-anchor=\"middle\" x=\"171\" y=\"-86.3\" font-family=\"Times,serif\" font-size=\"14.00\" fill=\"#000000\">3</text>\n</g>\n<!-- __main__.Node object at 0x7fdc0fdff650&#45;&gt;__main__.Node object at 0x7fdc0fd92150 -->\n<g id=\"edge4\" class=\"edge\">\n<title>__main__.Node object at 0x7fdc0fdff650&#45;&gt;__main__.Node object at 0x7fdc0fd92150</title>\n<path fill=\"none\" stroke=\"#000000\" d=\"M143.7146,-144.5708C147.9597,-136.0807 153.1536,-125.6929 157.8663,-116.2674\"/>\n<polygon fill=\"#000000\" stroke=\"#000000\" points=\"161.024,-117.7782 162.3657,-107.2687 154.763,-114.6477 161.024,-117.7782\"/>\n</g>\n<!-- __main__.Node object at 0x7fdc0fd39250 -->\n<g id=\"node3\" class=\"node\">\n<title>__main__.Node object at 0x7fdc0fd39250</title>\n<ellipse fill=\"none\" stroke=\"#000000\" cx=\"27\" cy=\"-18\" rx=\"27\" ry=\"18\"/>\n<text text-anchor=\"middle\" x=\"27\" y=\"-14.3\" font-family=\"Times,serif\" font-size=\"14.00\" fill=\"#000000\">&#45;1.5</text>\n</g>\n<!-- __main__.Node object at 0x7fdc0fd92e10&#45;&gt;__main__.Node object at 0x7fdc0fd39250 -->\n<g id=\"edge2\" class=\"edge\">\n<title>__main__.Node object at 0x7fdc0fd92e10&#45;&gt;__main__.Node object at 0x7fdc0fd39250</title>\n<path fill=\"none\" stroke=\"#000000\" d=\"M83.7307,-74.7307C73.803,-64.803 60.6847,-51.6847 49.5637,-40.5637\"/>\n<polygon fill=\"#000000\" stroke=\"#000000\" points=\"51.7933,-37.8436 42.2473,-33.2473 46.8436,-42.7933 51.7933,-37.8436\"/>\n</g>\n<!-- __main__.Node object at 0x7fdc0fd92850 -->\n<g id=\"node4\" class=\"node\">\n<title>__main__.Node object at 0x7fdc0fd92850</title>\n<ellipse fill=\"none\" stroke=\"#000000\" cx=\"99\" cy=\"-18\" rx=\"27\" ry=\"18\"/>\n<text text-anchor=\"middle\" x=\"99\" y=\"-14.3\" font-family=\"Times,serif\" font-size=\"14.00\" fill=\"#000000\">1</text>\n</g>\n<!-- __main__.Node object at 0x7fdc0fd92e10&#45;&gt;__main__.Node object at 0x7fdc0fd92850 -->\n<g id=\"edge3\" class=\"edge\">\n<title>__main__.Node object at 0x7fdc0fd92e10&#45;&gt;__main__.Node object at 0x7fdc0fd92850</title>\n<path fill=\"none\" stroke=\"#000000\" d=\"M99,-71.8314C99,-64.131 99,-54.9743 99,-46.4166\"/>\n<polygon fill=\"#000000\" stroke=\"#000000\" points=\"102.5001,-46.4132 99,-36.4133 95.5001,-46.4133 102.5001,-46.4132\"/>\n</g>\n<!-- __main__.Node object at 0x7fdc0fd92f90 -->\n<g id=\"node6\" class=\"node\">\n<title>__main__.Node object at 0x7fdc0fd92f90</title>\n<ellipse fill=\"none\" stroke=\"#000000\" cx=\"171\" cy=\"-18\" rx=\"27\" ry=\"18\"/>\n<text text-anchor=\"middle\" x=\"171\" y=\"-14.3\" font-family=\"Times,serif\" font-size=\"14.00\" fill=\"#000000\">5</text>\n</g>\n<!-- __main__.Node object at 0x7fdc0fd92150&#45;&gt;__main__.Node object at 0x7fdc0fd92f90 -->\n<g id=\"edge5\" class=\"edge\">\n<title>__main__.Node object at 0x7fdc0fd92150&#45;&gt;__main__.Node object at 0x7fdc0fd92f90</title>\n<path fill=\"none\" stroke=\"#000000\" d=\"M171,-71.8314C171,-64.131 171,-54.9743 171,-46.4166\"/>\n<polygon fill=\"#000000\" stroke=\"#000000\" points=\"174.5001,-46.4132 171,-36.4133 167.5001,-46.4133 174.5001,-46.4132\"/>\n</g>\n</g>\n</svg>\n"
          },
          "metadata": {}
        }
      ],
      "source": [
        "insert(test3_tree, -1.5)\n",
        "dot = visualize_tree(test3_tree)"
      ]
    },
    {
      "cell_type": "markdown",
      "id": "d2e36c91",
      "metadata": {
        "id": "d2e36c91"
      },
      "source": [
        "Let us write delete opertion. We will write another function minValueNode as well."
      ]
    },
    {
      "cell_type": "code",
      "execution_count": 23,
      "id": "d16f9745",
      "metadata": {
        "id": "d16f9745"
      },
      "outputs": [],
      "source": [
        "def minValueNode(node):\n",
        "    current = node\n",
        " \n",
        "    # loop down to find the leftmost leaf\n",
        "    while(current.left is not None):\n",
        "        current = current.left\n",
        " \n",
        "    return current\n",
        "\n",
        "def delete(nodes, val):\n",
        "\n",
        "    if nodes == None:  \n",
        "        return nodes\n",
        "\n",
        "    if val < nodes.val:\n",
        "        \n",
        "        #if nodes.left:\n",
        "        nodes.left = delete(nodes.left, val)\n",
        "\n",
        "    elif val > nodes.val:\n",
        "        \n",
        "        #if nodes.right:\n",
        "        nodes.right = delete(nodes.right, val)\n",
        "\n",
        "    else:\n",
        "        \n",
        "        # Node with only one child or no child\n",
        "        \n",
        "        if nodes.left is None:\n",
        "            temp = nodes.right\n",
        "            nodes = None\n",
        "            return temp\n",
        "        elif nodes.right is None:\n",
        "            temp = nodes.left\n",
        "            nodes = None\n",
        "            return temp\n",
        "        \n",
        "        # Nodes with two children: Get the inorder successor\n",
        "        temp = minValueNode(nodes.right)\n",
        "        \n",
        "        nodes.val = temp.val\n",
        "        \n",
        "        nodes.right = delete(nodes.right, temp.val)\n",
        "        \n",
        "    return nodes"
      ]
    },
    {
      "cell_type": "code",
      "execution_count": 24,
      "id": "5e12f007",
      "metadata": {
        "colab": {
          "base_uri": "https://localhost:8080/",
          "height": 79
        },
        "id": "5e12f007",
        "outputId": "c448ed3e-55d0-44e9-d04e-0e56922d243f"
      },
      "outputs": [
        {
          "output_type": "display_data",
          "data": {
            "text/plain": [
              "<graphviz.dot.Digraph at 0x7fdc0fd39750>"
            ],
            "image/svg+xml": "<?xml version=\"1.0\" encoding=\"UTF-8\" standalone=\"no\"?>\n<!DOCTYPE svg PUBLIC \"-//W3C//DTD SVG 1.1//EN\"\n \"http://www.w3.org/Graphics/SVG/1.1/DTD/svg11.dtd\">\n<!-- Generated by graphviz version 2.40.1 (20161225.0304)\n -->\n<!-- Title: %3 Pages: 1 -->\n<svg width=\"62pt\" height=\"44pt\"\n viewBox=\"0.00 0.00 62.00 44.00\" xmlns=\"http://www.w3.org/2000/svg\" xmlns:xlink=\"http://www.w3.org/1999/xlink\">\n<g id=\"graph0\" class=\"graph\" transform=\"scale(1 1) rotate(0) translate(4 40)\">\n<title>%3</title>\n<polygon fill=\"#ffffff\" stroke=\"transparent\" points=\"-4,4 -4,-40 58,-40 58,4 -4,4\"/>\n<!-- __main__.Node object at 0x7fdc0fd39c10 -->\n<g id=\"node1\" class=\"node\">\n<title>__main__.Node object at 0x7fdc0fd39c10</title>\n<ellipse fill=\"none\" stroke=\"#000000\" cx=\"27\" cy=\"-18\" rx=\"27\" ry=\"18\"/>\n<text text-anchor=\"middle\" x=\"27\" y=\"-14.3\" font-family=\"Times,serif\" font-size=\"14.00\" fill=\"#000000\">50</text>\n</g>\n</g>\n</svg>\n"
          },
          "metadata": {}
        }
      ],
      "source": [
        "test3_tree = buildBinaryTree([50])\n",
        "dot = visualize_tree(test3_tree)"
      ]
    },
    {
      "cell_type": "code",
      "execution_count": 25,
      "id": "892ef4f2",
      "metadata": {
        "colab": {
          "base_uri": "https://localhost:8080/",
          "height": 271
        },
        "id": "892ef4f2",
        "outputId": "e3ea4199-e4b7-474d-d7a8-77a278b0f5a2"
      },
      "outputs": [
        {
          "output_type": "display_data",
          "data": {
            "text/plain": [
              "<graphviz.dot.Digraph at 0x7fdc0fd2c1d0>"
            ],
            "image/svg+xml": "<?xml version=\"1.0\" encoding=\"UTF-8\" standalone=\"no\"?>\n<!DOCTYPE svg PUBLIC \"-//W3C//DTD SVG 1.1//EN\"\n \"http://www.w3.org/Graphics/SVG/1.1/DTD/svg11.dtd\">\n<!-- Generated by graphviz version 2.40.1 (20161225.0304)\n -->\n<!-- Title: %3 Pages: 1 -->\n<svg width=\"278pt\" height=\"188pt\"\n viewBox=\"0.00 0.00 278.00 188.00\" xmlns=\"http://www.w3.org/2000/svg\" xmlns:xlink=\"http://www.w3.org/1999/xlink\">\n<g id=\"graph0\" class=\"graph\" transform=\"scale(1 1) rotate(0) translate(4 184)\">\n<title>%3</title>\n<polygon fill=\"#ffffff\" stroke=\"transparent\" points=\"-4,4 -4,-184 274,-184 274,4 -4,4\"/>\n<!-- __main__.Node object at 0x7fdc0fd39c10 -->\n<g id=\"node1\" class=\"node\">\n<title>__main__.Node object at 0x7fdc0fd39c10</title>\n<ellipse fill=\"none\" stroke=\"#000000\" cx=\"135\" cy=\"-162\" rx=\"27\" ry=\"18\"/>\n<text text-anchor=\"middle\" x=\"135\" y=\"-158.3\" font-family=\"Times,serif\" font-size=\"14.00\" fill=\"#000000\">50</text>\n</g>\n<!-- __main__.Node object at 0x7fdc0fd2ce50 -->\n<g id=\"node2\" class=\"node\">\n<title>__main__.Node object at 0x7fdc0fd2ce50</title>\n<ellipse fill=\"none\" stroke=\"#000000\" cx=\"99\" cy=\"-90\" rx=\"27\" ry=\"18\"/>\n<text text-anchor=\"middle\" x=\"99\" y=\"-86.3\" font-family=\"Times,serif\" font-size=\"14.00\" fill=\"#000000\">30</text>\n</g>\n<!-- __main__.Node object at 0x7fdc0fd39c10&#45;&gt;__main__.Node object at 0x7fdc0fd2ce50 -->\n<g id=\"edge1\" class=\"edge\">\n<title>__main__.Node object at 0x7fdc0fd39c10&#45;&gt;__main__.Node object at 0x7fdc0fd2ce50</title>\n<path fill=\"none\" stroke=\"#000000\" d=\"M126.2854,-144.5708C122.0403,-136.0807 116.8464,-125.6929 112.1337,-116.2674\"/>\n<polygon fill=\"#000000\" stroke=\"#000000\" points=\"115.237,-114.6477 107.6343,-107.2687 108.976,-117.7782 115.237,-114.6477\"/>\n</g>\n<!-- __main__.Node object at 0x7fdc0fd2c8d0 -->\n<g id=\"node5\" class=\"node\">\n<title>__main__.Node object at 0x7fdc0fd2c8d0</title>\n<ellipse fill=\"none\" stroke=\"#000000\" cx=\"171\" cy=\"-90\" rx=\"27\" ry=\"18\"/>\n<text text-anchor=\"middle\" x=\"171\" y=\"-86.3\" font-family=\"Times,serif\" font-size=\"14.00\" fill=\"#000000\">70</text>\n</g>\n<!-- __main__.Node object at 0x7fdc0fd39c10&#45;&gt;__main__.Node object at 0x7fdc0fd2c8d0 -->\n<g id=\"edge4\" class=\"edge\">\n<title>__main__.Node object at 0x7fdc0fd39c10&#45;&gt;__main__.Node object at 0x7fdc0fd2c8d0</title>\n<path fill=\"none\" stroke=\"#000000\" d=\"M143.7146,-144.5708C147.9597,-136.0807 153.1536,-125.6929 157.8663,-116.2674\"/>\n<polygon fill=\"#000000\" stroke=\"#000000\" points=\"161.024,-117.7782 162.3657,-107.2687 154.763,-114.6477 161.024,-117.7782\"/>\n</g>\n<!-- __main__.Node object at 0x7fdc0fd2cd50 -->\n<g id=\"node3\" class=\"node\">\n<title>__main__.Node object at 0x7fdc0fd2cd50</title>\n<ellipse fill=\"none\" stroke=\"#000000\" cx=\"27\" cy=\"-18\" rx=\"27\" ry=\"18\"/>\n<text text-anchor=\"middle\" x=\"27\" y=\"-14.3\" font-family=\"Times,serif\" font-size=\"14.00\" fill=\"#000000\">20</text>\n</g>\n<!-- __main__.Node object at 0x7fdc0fd2ce50&#45;&gt;__main__.Node object at 0x7fdc0fd2cd50 -->\n<g id=\"edge2\" class=\"edge\">\n<title>__main__.Node object at 0x7fdc0fd2ce50&#45;&gt;__main__.Node object at 0x7fdc0fd2cd50</title>\n<path fill=\"none\" stroke=\"#000000\" d=\"M83.7307,-74.7307C73.803,-64.803 60.6847,-51.6847 49.5637,-40.5637\"/>\n<polygon fill=\"#000000\" stroke=\"#000000\" points=\"51.7933,-37.8436 42.2473,-33.2473 46.8436,-42.7933 51.7933,-37.8436\"/>\n</g>\n<!-- __main__.Node object at 0x7fdc0fd2c210 -->\n<g id=\"node4\" class=\"node\">\n<title>__main__.Node object at 0x7fdc0fd2c210</title>\n<ellipse fill=\"none\" stroke=\"#000000\" cx=\"99\" cy=\"-18\" rx=\"27\" ry=\"18\"/>\n<text text-anchor=\"middle\" x=\"99\" y=\"-14.3\" font-family=\"Times,serif\" font-size=\"14.00\" fill=\"#000000\">40</text>\n</g>\n<!-- __main__.Node object at 0x7fdc0fd2ce50&#45;&gt;__main__.Node object at 0x7fdc0fd2c210 -->\n<g id=\"edge3\" class=\"edge\">\n<title>__main__.Node object at 0x7fdc0fd2ce50&#45;&gt;__main__.Node object at 0x7fdc0fd2c210</title>\n<path fill=\"none\" stroke=\"#000000\" d=\"M99,-71.8314C99,-64.131 99,-54.9743 99,-46.4166\"/>\n<polygon fill=\"#000000\" stroke=\"#000000\" points=\"102.5001,-46.4132 99,-36.4133 95.5001,-46.4133 102.5001,-46.4132\"/>\n</g>\n<!-- __main__.Node object at 0x7fdc0fd2cb50 -->\n<g id=\"node6\" class=\"node\">\n<title>__main__.Node object at 0x7fdc0fd2cb50</title>\n<ellipse fill=\"none\" stroke=\"#000000\" cx=\"171\" cy=\"-18\" rx=\"27\" ry=\"18\"/>\n<text text-anchor=\"middle\" x=\"171\" y=\"-14.3\" font-family=\"Times,serif\" font-size=\"14.00\" fill=\"#000000\">60</text>\n</g>\n<!-- __main__.Node object at 0x7fdc0fd2c8d0&#45;&gt;__main__.Node object at 0x7fdc0fd2cb50 -->\n<g id=\"edge5\" class=\"edge\">\n<title>__main__.Node object at 0x7fdc0fd2c8d0&#45;&gt;__main__.Node object at 0x7fdc0fd2cb50</title>\n<path fill=\"none\" stroke=\"#000000\" d=\"M171,-71.8314C171,-64.131 171,-54.9743 171,-46.4166\"/>\n<polygon fill=\"#000000\" stroke=\"#000000\" points=\"174.5001,-46.4132 171,-36.4133 167.5001,-46.4133 174.5001,-46.4132\"/>\n</g>\n<!-- __main__.Node object at 0x7fdc0fd2ccd0 -->\n<g id=\"node7\" class=\"node\">\n<title>__main__.Node object at 0x7fdc0fd2ccd0</title>\n<ellipse fill=\"none\" stroke=\"#000000\" cx=\"243\" cy=\"-18\" rx=\"27\" ry=\"18\"/>\n<text text-anchor=\"middle\" x=\"243\" y=\"-14.3\" font-family=\"Times,serif\" font-size=\"14.00\" fill=\"#000000\">80</text>\n</g>\n<!-- __main__.Node object at 0x7fdc0fd2c8d0&#45;&gt;__main__.Node object at 0x7fdc0fd2ccd0 -->\n<g id=\"edge6\" class=\"edge\">\n<title>__main__.Node object at 0x7fdc0fd2c8d0&#45;&gt;__main__.Node object at 0x7fdc0fd2ccd0</title>\n<path fill=\"none\" stroke=\"#000000\" d=\"M186.2693,-74.7307C196.197,-64.803 209.3153,-51.6847 220.4363,-40.5637\"/>\n<polygon fill=\"#000000\" stroke=\"#000000\" points=\"223.1564,-42.7933 227.7527,-33.2473 218.2067,-37.8436 223.1564,-42.7933\"/>\n</g>\n</g>\n</svg>\n"
          },
          "metadata": {}
        }
      ],
      "source": [
        "insert(test3_tree, 50)\n",
        "insert(test3_tree, 30)\n",
        "insert(test3_tree, 20)\n",
        "insert(test3_tree, 40)\n",
        "insert(test3_tree, 70)\n",
        "insert(test3_tree, 60)\n",
        "insert(test3_tree, 80)\n",
        "dot = visualize_tree(test3_tree)"
      ]
    },
    {
      "cell_type": "code",
      "execution_count": 26,
      "id": "e232f617",
      "metadata": {
        "colab": {
          "base_uri": "https://localhost:8080/",
          "height": 271
        },
        "id": "e232f617",
        "outputId": "3c277288-2a7f-452f-fcd2-91bf9d1454e0"
      },
      "outputs": [
        {
          "output_type": "display_data",
          "data": {
            "text/plain": [
              "<graphviz.dot.Digraph at 0x7fdc0fd2dd10>"
            ],
            "image/svg+xml": "<?xml version=\"1.0\" encoding=\"UTF-8\" standalone=\"no\"?>\n<!DOCTYPE svg PUBLIC \"-//W3C//DTD SVG 1.1//EN\"\n \"http://www.w3.org/Graphics/SVG/1.1/DTD/svg11.dtd\">\n<!-- Generated by graphviz version 2.40.1 (20161225.0304)\n -->\n<!-- Title: %3 Pages: 1 -->\n<svg width=\"206pt\" height=\"188pt\"\n viewBox=\"0.00 0.00 206.00 188.00\" xmlns=\"http://www.w3.org/2000/svg\" xmlns:xlink=\"http://www.w3.org/1999/xlink\">\n<g id=\"graph0\" class=\"graph\" transform=\"scale(1 1) rotate(0) translate(4 184)\">\n<title>%3</title>\n<polygon fill=\"#ffffff\" stroke=\"transparent\" points=\"-4,4 -4,-184 202,-184 202,4 -4,4\"/>\n<!-- __main__.Node object at 0x7fdc0fd39c10 -->\n<g id=\"node1\" class=\"node\">\n<title>__main__.Node object at 0x7fdc0fd39c10</title>\n<ellipse fill=\"none\" stroke=\"#000000\" cx=\"135\" cy=\"-162\" rx=\"27\" ry=\"18\"/>\n<text text-anchor=\"middle\" x=\"135\" y=\"-158.3\" font-family=\"Times,serif\" font-size=\"14.00\" fill=\"#000000\">60</text>\n</g>\n<!-- __main__.Node object at 0x7fdc0fd2ce50 -->\n<g id=\"node2\" class=\"node\">\n<title>__main__.Node object at 0x7fdc0fd2ce50</title>\n<ellipse fill=\"none\" stroke=\"#000000\" cx=\"99\" cy=\"-90\" rx=\"27\" ry=\"18\"/>\n<text text-anchor=\"middle\" x=\"99\" y=\"-86.3\" font-family=\"Times,serif\" font-size=\"14.00\" fill=\"#000000\">30</text>\n</g>\n<!-- __main__.Node object at 0x7fdc0fd39c10&#45;&gt;__main__.Node object at 0x7fdc0fd2ce50 -->\n<g id=\"edge1\" class=\"edge\">\n<title>__main__.Node object at 0x7fdc0fd39c10&#45;&gt;__main__.Node object at 0x7fdc0fd2ce50</title>\n<path fill=\"none\" stroke=\"#000000\" d=\"M126.2854,-144.5708C122.0403,-136.0807 116.8464,-125.6929 112.1337,-116.2674\"/>\n<polygon fill=\"#000000\" stroke=\"#000000\" points=\"115.237,-114.6477 107.6343,-107.2687 108.976,-117.7782 115.237,-114.6477\"/>\n</g>\n<!-- __main__.Node object at 0x7fdc0fd2c8d0 -->\n<g id=\"node5\" class=\"node\">\n<title>__main__.Node object at 0x7fdc0fd2c8d0</title>\n<ellipse fill=\"none\" stroke=\"#000000\" cx=\"171\" cy=\"-90\" rx=\"27\" ry=\"18\"/>\n<text text-anchor=\"middle\" x=\"171\" y=\"-86.3\" font-family=\"Times,serif\" font-size=\"14.00\" fill=\"#000000\">70</text>\n</g>\n<!-- __main__.Node object at 0x7fdc0fd39c10&#45;&gt;__main__.Node object at 0x7fdc0fd2c8d0 -->\n<g id=\"edge4\" class=\"edge\">\n<title>__main__.Node object at 0x7fdc0fd39c10&#45;&gt;__main__.Node object at 0x7fdc0fd2c8d0</title>\n<path fill=\"none\" stroke=\"#000000\" d=\"M143.7146,-144.5708C147.9597,-136.0807 153.1536,-125.6929 157.8663,-116.2674\"/>\n<polygon fill=\"#000000\" stroke=\"#000000\" points=\"161.024,-117.7782 162.3657,-107.2687 154.763,-114.6477 161.024,-117.7782\"/>\n</g>\n<!-- __main__.Node object at 0x7fdc0fd2cd50 -->\n<g id=\"node3\" class=\"node\">\n<title>__main__.Node object at 0x7fdc0fd2cd50</title>\n<ellipse fill=\"none\" stroke=\"#000000\" cx=\"27\" cy=\"-18\" rx=\"27\" ry=\"18\"/>\n<text text-anchor=\"middle\" x=\"27\" y=\"-14.3\" font-family=\"Times,serif\" font-size=\"14.00\" fill=\"#000000\">20</text>\n</g>\n<!-- __main__.Node object at 0x7fdc0fd2ce50&#45;&gt;__main__.Node object at 0x7fdc0fd2cd50 -->\n<g id=\"edge2\" class=\"edge\">\n<title>__main__.Node object at 0x7fdc0fd2ce50&#45;&gt;__main__.Node object at 0x7fdc0fd2cd50</title>\n<path fill=\"none\" stroke=\"#000000\" d=\"M83.7307,-74.7307C73.803,-64.803 60.6847,-51.6847 49.5637,-40.5637\"/>\n<polygon fill=\"#000000\" stroke=\"#000000\" points=\"51.7933,-37.8436 42.2473,-33.2473 46.8436,-42.7933 51.7933,-37.8436\"/>\n</g>\n<!-- __main__.Node object at 0x7fdc0fd2c210 -->\n<g id=\"node4\" class=\"node\">\n<title>__main__.Node object at 0x7fdc0fd2c210</title>\n<ellipse fill=\"none\" stroke=\"#000000\" cx=\"99\" cy=\"-18\" rx=\"27\" ry=\"18\"/>\n<text text-anchor=\"middle\" x=\"99\" y=\"-14.3\" font-family=\"Times,serif\" font-size=\"14.00\" fill=\"#000000\">40</text>\n</g>\n<!-- __main__.Node object at 0x7fdc0fd2ce50&#45;&gt;__main__.Node object at 0x7fdc0fd2c210 -->\n<g id=\"edge3\" class=\"edge\">\n<title>__main__.Node object at 0x7fdc0fd2ce50&#45;&gt;__main__.Node object at 0x7fdc0fd2c210</title>\n<path fill=\"none\" stroke=\"#000000\" d=\"M99,-71.8314C99,-64.131 99,-54.9743 99,-46.4166\"/>\n<polygon fill=\"#000000\" stroke=\"#000000\" points=\"102.5001,-46.4132 99,-36.4133 95.5001,-46.4133 102.5001,-46.4132\"/>\n</g>\n<!-- __main__.Node object at 0x7fdc0fd2ccd0 -->\n<g id=\"node6\" class=\"node\">\n<title>__main__.Node object at 0x7fdc0fd2ccd0</title>\n<ellipse fill=\"none\" stroke=\"#000000\" cx=\"171\" cy=\"-18\" rx=\"27\" ry=\"18\"/>\n<text text-anchor=\"middle\" x=\"171\" y=\"-14.3\" font-family=\"Times,serif\" font-size=\"14.00\" fill=\"#000000\">80</text>\n</g>\n<!-- __main__.Node object at 0x7fdc0fd2c8d0&#45;&gt;__main__.Node object at 0x7fdc0fd2ccd0 -->\n<g id=\"edge5\" class=\"edge\">\n<title>__main__.Node object at 0x7fdc0fd2c8d0&#45;&gt;__main__.Node object at 0x7fdc0fd2ccd0</title>\n<path fill=\"none\" stroke=\"#000000\" d=\"M171,-71.8314C171,-64.131 171,-54.9743 171,-46.4166\"/>\n<polygon fill=\"#000000\" stroke=\"#000000\" points=\"174.5001,-46.4132 171,-36.4133 167.5001,-46.4133 174.5001,-46.4132\"/>\n</g>\n</g>\n</svg>\n"
          },
          "metadata": {}
        }
      ],
      "source": [
        "delete(test3_tree, 50)\n",
        "dot = visualize_tree(test3_tree)"
      ]
    },
    {
      "cell_type": "markdown",
      "id": "e3b820f2",
      "metadata": {
        "id": "e3b820f2"
      },
      "source": [
        "***"
      ]
    },
    {
      "cell_type": "markdown",
      "id": "f9b31a04",
      "metadata": {
        "id": "f9b31a04"
      },
      "source": [
        "### <font color='red'> Section 4: Now that you have a good understanding of BST, write an algorithm (and code) to check if a binary search tree is balanced. For the purpose of this question, a balanced tree is defined to be a tree such that the heights of the two subtrees of any node never differs by more than one. </font>"
      ]
    },
    {
      "cell_type": "code",
      "execution_count": 27,
      "id": "2a6897da",
      "metadata": {
        "id": "2a6897da"
      },
      "outputs": [],
      "source": [
        "### TODO ###\n",
        "### Good Luck ###\n",
        "\n",
        "class Node:\n",
        "  def __init__(self , val):\n",
        "    self.data = val\n",
        "    self.left = None\n",
        "    self.right = None\n",
        "\n",
        "def TreeHeight(root):\n",
        "  if root is None:\n",
        "    return 0\n",
        "  return max(TreeHeight(root.left), TreeHeight(root.right))+1\n",
        "\n",
        "def isBalanced(root):\n",
        "  if root is None:\n",
        "    return True\n",
        "  \n",
        "  LeftHeight = TreeHeight(root.left)\n",
        "  RightHeight = TreeHeight(root.right)\n",
        "\n",
        "  if (abs(LeftHeight - RightHeight) <= 1)and isBalanced(root.left) is True and isBalanced(root.right) is True:\n",
        "    return True\n",
        "  return False\n",
        "\n",
        "\n",
        "\n",
        "\n",
        "\n"
      ]
    },
    {
      "cell_type": "markdown",
      "id": "e64314de",
      "metadata": {
        "id": "e64314de"
      },
      "source": [
        "***"
      ]
    },
    {
      "cell_type": "markdown",
      "id": "1309ad59",
      "metadata": {
        "id": "1309ad59"
      },
      "source": [
        "### <font color='red'> Section 5: Write an algorithm (and code) to find the first common ancestor of two nodes in a binary search tree. </font>"
      ]
    },
    {
      "cell_type": "code",
      "execution_count": null,
      "id": "8d176b03",
      "metadata": {
        "id": "8d176b03"
      },
      "outputs": [],
      "source": [
        "#### TODO ####\n",
        "### Good Luck ###\n",
        "\n",
        "# Pseudo Code\n",
        "\n",
        "#1. Search path from root to left ancestor and store all visted nodes in an array\n",
        "#2. Search path from root to right ancestor and store all visted nodes in an array\n",
        "#3. Starting from the end of each array, in reverse order, compare values and return at first instance of matching values.\n",
        "#4. if no match, return False (or -1)\n",
        "\n",
        "\n",
        "\n",
        "\n"
      ]
    },
    {
      "cell_type": "markdown",
      "id": "9c64f77d",
      "metadata": {
        "id": "9c64f77d"
      },
      "source": [
        "***"
      ]
    },
    {
      "cell_type": "markdown",
      "id": "ebd772d0",
      "metadata": {
        "id": "ebd772d0"
      },
      "source": [
        "### <font color='red'> Section 6: Write an algorithm (and code) to perform a left and right rotation on any specified node of a BST? Your function should take in the tree, as well as a node as input argument, and then return a tree in which rotation is performed. </font>"
      ]
    },
    {
      "cell_type": "code",
      "execution_count": null,
      "id": "edf0acbd",
      "metadata": {
        "id": "edf0acbd"
      },
      "outputs": [],
      "source": [
        "#### TODO ####\n",
        "### Good Luck ###\n",
        "\n",
        "\n",
        "    \n",
        "\n",
        "\n",
        "\n",
        "\n"
      ]
    },
    {
      "cell_type": "markdown",
      "id": "01e640cf",
      "metadata": {
        "id": "01e640cf"
      },
      "source": [
        "***"
      ]
    },
    {
      "cell_type": "markdown",
      "id": "a85ea894",
      "metadata": {
        "id": "a85ea894"
      },
      "source": [
        "### Section 6: Insertion in an AVL Tree"
      ]
    },
    {
      "cell_type": "code",
      "execution_count": null,
      "id": "b97434a9",
      "metadata": {
        "id": "b97434a9"
      },
      "outputs": [],
      "source": [
        "class TreeNode(object):\n",
        "\n",
        "    def __init__(self, val):\n",
        "        \n",
        "        self.val = val\n",
        "        self.left = None\n",
        "        self.right = None\n",
        "        self.height = 1\n",
        "\n",
        "class AVL_Tree(object):\n",
        " \n",
        "    # Recursive function to insert key in\n",
        "    # subtree rooted with node and returns\n",
        "    # new root of subtree.\n",
        "    def insert(self, root, key):\n",
        "     \n",
        "        # Step 1 - Perform normal BST\n",
        "        if not root:\n",
        "            return TreeNode(key)\n",
        "        elif key < root.val:\n",
        "            root.left = self.insert(root.left, key)\n",
        "        else:\n",
        "            root.right = self.insert(root.right, key)\n",
        " \n",
        "        # Step 2 - Update the height of the\n",
        "        # ancestor node\n",
        "        root.height = 1 + max(self.getHeight(root.left),\n",
        "                           self.getHeight(root.right))\n",
        " \n",
        "        # Step 3 - Get the balance factor\n",
        "        balance = self.getBalance(root)\n",
        " \n",
        "        # Step 4 - If the node is unbalanced,\n",
        "        # then try out the 4 cases\n",
        "        # Case 1 - Left Left\n",
        "        if balance > 1 and key < root.left.val:\n",
        "            return self.rightRotate(root)\n",
        " \n",
        "        # Case 2 - Right Right\n",
        "        if balance < -1 and key > root.right.val:\n",
        "            return self.leftRotate(root)\n",
        " \n",
        "        # Case 3 - Left Right\n",
        "        if balance > 1 and key > root.left.val:\n",
        "            root.left = self.leftRotate(root.left)\n",
        "            return self.rightRotate(root)\n",
        " \n",
        "        # Case 4 - Right Left\n",
        "        if balance < -1 and key < root.right.val:\n",
        "            root.right = self.rightRotate(root.right)\n",
        "            return self.leftRotate(root)\n",
        " \n",
        "        return root\n",
        " \n",
        "    def leftRotate(self, z):\n",
        " \n",
        "        y = z.right\n",
        "        T2 = y.left\n",
        " \n",
        "        # Perform rotation\n",
        "        y.left = z\n",
        "        z.right = T2\n",
        " \n",
        "        # Update heights\n",
        "        z.height = 1 + max(self.getHeight(z.left),\n",
        "                         self.getHeight(z.right))\n",
        "        y.height = 1 + max(self.getHeight(y.left),\n",
        "                         self.getHeight(y.right))\n",
        " \n",
        "        # Return the new root\n",
        "        return y\n",
        " \n",
        "    def rightRotate(self, z):\n",
        " \n",
        "        y = z.left\n",
        "        T3 = y.right\n",
        " \n",
        "        # Perform rotation\n",
        "        y.right = z\n",
        "        z.left = T3\n",
        " \n",
        "        # Update heights\n",
        "        z.height = 1 + max(self.getHeight(z.left),\n",
        "                        self.getHeight(z.right))\n",
        "        y.height = 1 + max(self.getHeight(y.left),\n",
        "                        self.getHeight(y.right))\n",
        " \n",
        "        # Return the new root\n",
        "        return y\n",
        " \n",
        "    def getHeight(self, root):\n",
        "        if not root:\n",
        "            return 0\n",
        " \n",
        "        return root.height\n",
        " \n",
        "    def getBalance(self, root):\n",
        "        if not root:\n",
        "            return 0\n",
        " \n",
        "        return self.getHeight(root.left) - self.getHeight(root.right)\n",
        " \n"
      ]
    },
    {
      "cell_type": "code",
      "execution_count": null,
      "id": "e1b71137",
      "metadata": {
        "id": "e1b71137"
      },
      "outputs": [],
      "source": [
        "myTree = AVL_Tree()\n",
        "root = None\n",
        " \n",
        "root = myTree.insert(root, 10)\n",
        "root = myTree.insert(root, 20)\n",
        "root = myTree.insert(root, 30)\n",
        "root = myTree.insert(root, 40)\n",
        "root = myTree.insert(root, 50)\n",
        "root = myTree.insert(root, 25)\n",
        "root = myTree.insert(root, 60)\n",
        "root = myTree.insert(root, 70)\n",
        "root = myTree.insert(root, 80)\n"
      ]
    },
    {
      "cell_type": "code",
      "execution_count": null,
      "id": "e5d6515c",
      "metadata": {
        "id": "e5d6515c",
        "outputId": "b7d356b8-f145-4445-86b7-3b80aea6f1a5"
      },
      "outputs": [
        {
          "data": {
            "image/svg+xml": [
              "<?xml version=\"1.0\" encoding=\"UTF-8\" standalone=\"no\"?>\n",
              "<!DOCTYPE svg PUBLIC \"-//W3C//DTD SVG 1.1//EN\"\n",
              " \"http://www.w3.org/Graphics/SVG/1.1/DTD/svg11.dtd\">\n",
              "<!-- Generated by graphviz version 2.47.0 (20210316.0004)\n",
              " -->\n",
              "<!-- Pages: 1 -->\n",
              "<svg width=\"314pt\" height=\"260pt\"\n",
              " viewBox=\"0.00 0.00 314.00 260.00\" xmlns=\"http://www.w3.org/2000/svg\" xmlns:xlink=\"http://www.w3.org/1999/xlink\">\n",
              "<g id=\"graph0\" class=\"graph\" transform=\"scale(1 1) rotate(0) translate(4 256)\">\n",
              "<polygon fill=\"white\" stroke=\"transparent\" points=\"-4,4 -4,-256 310,-256 310,4 -4,4\"/>\n",
              "<!-- __main__.TreeNode object at 0x7fb0cc55f460 -->\n",
              "<g id=\"node1\" class=\"node\">\n",
              "<title>__main__.TreeNode object at 0x7fb0cc55f460</title>\n",
              "<ellipse fill=\"none\" stroke=\"black\" cx=\"135\" cy=\"-234\" rx=\"27\" ry=\"18\"/>\n",
              "<text text-anchor=\"middle\" x=\"135\" y=\"-230.3\" font-family=\"Times,serif\" font-size=\"14.00\">30</text>\n",
              "</g>\n",
              "<!-- __main__.TreeNode object at 0x7fb0cc55f820 -->\n",
              "<g id=\"node2\" class=\"node\">\n",
              "<title>__main__.TreeNode object at 0x7fb0cc55f820</title>\n",
              "<ellipse fill=\"none\" stroke=\"black\" cx=\"99\" cy=\"-162\" rx=\"27\" ry=\"18\"/>\n",
              "<text text-anchor=\"middle\" x=\"99\" y=\"-158.3\" font-family=\"Times,serif\" font-size=\"14.00\">20</text>\n",
              "</g>\n",
              "<!-- __main__.TreeNode object at 0x7fb0cc55f460&#45;&gt;__main__.TreeNode object at 0x7fb0cc55f820 -->\n",
              "<g id=\"edge1\" class=\"edge\">\n",
              "<title>__main__.TreeNode object at 0x7fb0cc55f460&#45;&gt;__main__.TreeNode object at 0x7fb0cc55f820</title>\n",
              "<path fill=\"none\" stroke=\"black\" d=\"M126.65,-216.76C122.29,-208.28 116.85,-197.71 111.96,-188.2\"/>\n",
              "<polygon fill=\"black\" stroke=\"black\" points=\"114.99,-186.44 107.3,-179.15 108.77,-189.64 114.99,-186.44\"/>\n",
              "</g>\n",
              "<!-- __main__.TreeNode object at 0x7fb0cc55f310 -->\n",
              "<g id=\"node5\" class=\"node\">\n",
              "<title>__main__.TreeNode object at 0x7fb0cc55f310</title>\n",
              "<ellipse fill=\"none\" stroke=\"black\" cx=\"171\" cy=\"-162\" rx=\"27\" ry=\"18\"/>\n",
              "<text text-anchor=\"middle\" x=\"171\" y=\"-158.3\" font-family=\"Times,serif\" font-size=\"14.00\">50</text>\n",
              "</g>\n",
              "<!-- __main__.TreeNode object at 0x7fb0cc55f460&#45;&gt;__main__.TreeNode object at 0x7fb0cc55f310 -->\n",
              "<g id=\"edge4\" class=\"edge\">\n",
              "<title>__main__.TreeNode object at 0x7fb0cc55f460&#45;&gt;__main__.TreeNode object at 0x7fb0cc55f310</title>\n",
              "<path fill=\"none\" stroke=\"black\" d=\"M143.35,-216.76C147.71,-208.28 153.15,-197.71 158.04,-188.2\"/>\n",
              "<polygon fill=\"black\" stroke=\"black\" points=\"161.23,-189.64 162.7,-179.15 155.01,-186.44 161.23,-189.64\"/>\n",
              "</g>\n",
              "<!-- __main__.TreeNode object at 0x7fb0cc55fee0 -->\n",
              "<g id=\"node3\" class=\"node\">\n",
              "<title>__main__.TreeNode object at 0x7fb0cc55fee0</title>\n",
              "<ellipse fill=\"none\" stroke=\"black\" cx=\"27\" cy=\"-90\" rx=\"27\" ry=\"18\"/>\n",
              "<text text-anchor=\"middle\" x=\"27\" y=\"-86.3\" font-family=\"Times,serif\" font-size=\"14.00\">10</text>\n",
              "</g>\n",
              "<!-- __main__.TreeNode object at 0x7fb0cc55f820&#45;&gt;__main__.TreeNode object at 0x7fb0cc55fee0 -->\n",
              "<g id=\"edge2\" class=\"edge\">\n",
              "<title>__main__.TreeNode object at 0x7fb0cc55f820&#45;&gt;__main__.TreeNode object at 0x7fb0cc55fee0</title>\n",
              "<path fill=\"none\" stroke=\"black\" d=\"M84.43,-146.83C74.25,-136.94 60.48,-123.55 48.97,-112.36\"/>\n",
              "<polygon fill=\"black\" stroke=\"black\" points=\"51.41,-109.85 41.8,-105.38 46.53,-114.87 51.41,-109.85\"/>\n",
              "</g>\n",
              "<!-- __main__.TreeNode object at 0x7fb0cc55f610 -->\n",
              "<g id=\"node4\" class=\"node\">\n",
              "<title>__main__.TreeNode object at 0x7fb0cc55f610</title>\n",
              "<ellipse fill=\"none\" stroke=\"black\" cx=\"99\" cy=\"-90\" rx=\"27\" ry=\"18\"/>\n",
              "<text text-anchor=\"middle\" x=\"99\" y=\"-86.3\" font-family=\"Times,serif\" font-size=\"14.00\">25</text>\n",
              "</g>\n",
              "<!-- __main__.TreeNode object at 0x7fb0cc55f820&#45;&gt;__main__.TreeNode object at 0x7fb0cc55f610 -->\n",
              "<g id=\"edge3\" class=\"edge\">\n",
              "<title>__main__.TreeNode object at 0x7fb0cc55f820&#45;&gt;__main__.TreeNode object at 0x7fb0cc55f610</title>\n",
              "<path fill=\"none\" stroke=\"black\" d=\"M99,-143.7C99,-135.98 99,-126.71 99,-118.11\"/>\n",
              "<polygon fill=\"black\" stroke=\"black\" points=\"102.5,-118.1 99,-108.1 95.5,-118.1 102.5,-118.1\"/>\n",
              "</g>\n",
              "<!-- __main__.TreeNode object at 0x7fb0cc55f340 -->\n",
              "<g id=\"node6\" class=\"node\">\n",
              "<title>__main__.TreeNode object at 0x7fb0cc55f340</title>\n",
              "<ellipse fill=\"none\" stroke=\"black\" cx=\"171\" cy=\"-90\" rx=\"27\" ry=\"18\"/>\n",
              "<text text-anchor=\"middle\" x=\"171\" y=\"-86.3\" font-family=\"Times,serif\" font-size=\"14.00\">40</text>\n",
              "</g>\n",
              "<!-- __main__.TreeNode object at 0x7fb0cc55f310&#45;&gt;__main__.TreeNode object at 0x7fb0cc55f340 -->\n",
              "<g id=\"edge5\" class=\"edge\">\n",
              "<title>__main__.TreeNode object at 0x7fb0cc55f310&#45;&gt;__main__.TreeNode object at 0x7fb0cc55f340</title>\n",
              "<path fill=\"none\" stroke=\"black\" d=\"M171,-143.7C171,-135.98 171,-126.71 171,-118.11\"/>\n",
              "<polygon fill=\"black\" stroke=\"black\" points=\"174.5,-118.1 171,-108.1 167.5,-118.1 174.5,-118.1\"/>\n",
              "</g>\n",
              "<!-- __main__.TreeNode object at 0x7fb0cc55f130 -->\n",
              "<g id=\"node7\" class=\"node\">\n",
              "<title>__main__.TreeNode object at 0x7fb0cc55f130</title>\n",
              "<ellipse fill=\"none\" stroke=\"black\" cx=\"243\" cy=\"-90\" rx=\"27\" ry=\"18\"/>\n",
              "<text text-anchor=\"middle\" x=\"243\" y=\"-86.3\" font-family=\"Times,serif\" font-size=\"14.00\">70</text>\n",
              "</g>\n",
              "<!-- __main__.TreeNode object at 0x7fb0cc55f310&#45;&gt;__main__.TreeNode object at 0x7fb0cc55f130 -->\n",
              "<g id=\"edge6\" class=\"edge\">\n",
              "<title>__main__.TreeNode object at 0x7fb0cc55f310&#45;&gt;__main__.TreeNode object at 0x7fb0cc55f130</title>\n",
              "<path fill=\"none\" stroke=\"black\" d=\"M185.57,-146.83C195.75,-136.94 209.52,-123.55 221.03,-112.36\"/>\n",
              "<polygon fill=\"black\" stroke=\"black\" points=\"223.47,-114.87 228.2,-105.38 218.59,-109.85 223.47,-114.87\"/>\n",
              "</g>\n",
              "<!-- __main__.TreeNode object at 0x7fb0cc55fca0 -->\n",
              "<g id=\"node8\" class=\"node\">\n",
              "<title>__main__.TreeNode object at 0x7fb0cc55fca0</title>\n",
              "<ellipse fill=\"none\" stroke=\"black\" cx=\"207\" cy=\"-18\" rx=\"27\" ry=\"18\"/>\n",
              "<text text-anchor=\"middle\" x=\"207\" y=\"-14.3\" font-family=\"Times,serif\" font-size=\"14.00\">60</text>\n",
              "</g>\n",
              "<!-- __main__.TreeNode object at 0x7fb0cc55f130&#45;&gt;__main__.TreeNode object at 0x7fb0cc55fca0 -->\n",
              "<g id=\"edge7\" class=\"edge\">\n",
              "<title>__main__.TreeNode object at 0x7fb0cc55f130&#45;&gt;__main__.TreeNode object at 0x7fb0cc55fca0</title>\n",
              "<path fill=\"none\" stroke=\"black\" d=\"M234.65,-72.76C230.29,-64.28 224.85,-53.71 219.96,-44.2\"/>\n",
              "<polygon fill=\"black\" stroke=\"black\" points=\"222.99,-42.44 215.3,-35.15 216.77,-45.64 222.99,-42.44\"/>\n",
              "</g>\n",
              "<!-- __main__.TreeNode object at 0x7fb0cc55f550 -->\n",
              "<g id=\"node9\" class=\"node\">\n",
              "<title>__main__.TreeNode object at 0x7fb0cc55f550</title>\n",
              "<ellipse fill=\"none\" stroke=\"black\" cx=\"279\" cy=\"-18\" rx=\"27\" ry=\"18\"/>\n",
              "<text text-anchor=\"middle\" x=\"279\" y=\"-14.3\" font-family=\"Times,serif\" font-size=\"14.00\">80</text>\n",
              "</g>\n",
              "<!-- __main__.TreeNode object at 0x7fb0cc55f130&#45;&gt;__main__.TreeNode object at 0x7fb0cc55f550 -->\n",
              "<g id=\"edge8\" class=\"edge\">\n",
              "<title>__main__.TreeNode object at 0x7fb0cc55f130&#45;&gt;__main__.TreeNode object at 0x7fb0cc55f550</title>\n",
              "<path fill=\"none\" stroke=\"black\" d=\"M251.35,-72.76C255.71,-64.28 261.15,-53.71 266.04,-44.2\"/>\n",
              "<polygon fill=\"black\" stroke=\"black\" points=\"269.23,-45.64 270.7,-35.15 263.01,-42.44 269.23,-45.64\"/>\n",
              "</g>\n",
              "</g>\n",
              "</svg>\n"
            ],
            "text/plain": [
              "<graphviz.dot.Digraph at 0x7fb0cc55f100>"
            ]
          },
          "metadata": {},
          "output_type": "display_data"
        }
      ],
      "source": [
        "dot = visualize_tree(root)"
      ]
    },
    {
      "cell_type": "code",
      "execution_count": null,
      "id": "114bd86b",
      "metadata": {
        "id": "114bd86b"
      },
      "outputs": [],
      "source": [
        ""
      ]
    },
    {
      "cell_type": "code",
      "execution_count": null,
      "id": "67a5957b",
      "metadata": {
        "id": "67a5957b"
      },
      "outputs": [],
      "source": [
        ""
      ]
    },
    {
      "cell_type": "code",
      "execution_count": null,
      "id": "89a06e72",
      "metadata": {
        "id": "89a06e72"
      },
      "outputs": [],
      "source": [
        ""
      ]
    },
    {
      "cell_type": "markdown",
      "id": "79cfe7ab",
      "metadata": {
        "id": "79cfe7ab"
      },
      "source": [
        "***"
      ]
    }
  ],
  "metadata": {
    "kernelspec": {
      "display_name": "Python 3",
      "language": "python",
      "name": "python3"
    },
    "language_info": {
      "codemirror_mode": {
        "name": "ipython",
        "version": 3
      },
      "file_extension": ".py",
      "mimetype": "text/x-python",
      "name": "python",
      "nbconvert_exporter": "python",
      "pygments_lexer": "ipython3",
      "version": "3.8.2"
    },
    "colab": {
      "name": "Mod_2a_Trees.ipynb",
      "provenance": [],
      "include_colab_link": true
    }
  },
  "nbformat": 4,
  "nbformat_minor": 5
}